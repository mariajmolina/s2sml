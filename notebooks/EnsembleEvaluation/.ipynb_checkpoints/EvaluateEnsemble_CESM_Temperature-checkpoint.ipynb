{
 "cells": [
  {
   "cell_type": "code",
   "execution_count": 1,
   "id": "469a7c37-6744-4130-b961-290e53404f24",
   "metadata": {},
   "outputs": [],
   "source": [
    "import copy\n",
    "import matplotlib.colors as colors\n",
    "import matplotlib.pyplot as plt\n",
    "import numpy as np\n",
    "import scipy\n",
    "import time\n",
    "import glob\n",
    "import xarray as xr\n",
    "import cartopy.crs as ccrs\n",
    "\n",
    "from pandas import DataFrame\n",
    "from properscoring import crps_ensemble\n",
    "from sklearn.metrics import r2_score\n",
    "from sklearn.model_selection import train_test_split"
   ]
  },
  {
   "cell_type": "code",
   "execution_count": 2,
   "id": "f16e4fa2-558e-4310-8605-6577f6c2ea39",
   "metadata": {},
   "outputs": [],
   "source": [
    "from ensemble_evaluation_functions import *"
   ]
  },
  {
   "cell_type": "code",
   "execution_count": 3,
   "id": "1c0416c4-3c98-4a89-b2c8-53107f66a90a",
   "metadata": {},
   "outputs": [],
   "source": [
    "def plot_metric(metric,lat,lon,name_metric,ideal_val,cmap='jet',\n",
    "                vmin=None,vmax=None,units=None,cbar_label=None,path_save=None):\n",
    "    # Set up the projection and plot the data\n",
    "    fig = plt.figure(figsize=(10, 5))\n",
    "    ax = fig.add_subplot(1, 1, 1, projection=ccrs.PlateCarree())\n",
    "    p = ax.pcolormesh(lon, lat, metric, cmap=cmap, transform=ccrs.PlateCarree(), vmin=vmin, vmax=vmax)\n",
    "\n",
    "    # Set up the colorbar\n",
    "    if cbar_label is not None:\n",
    "        cbar_label = f\"({var.units})\"\n",
    "    cbar = plt.colorbar(p, ax=ax, orientation='horizontal', shrink=0.5, pad=0.1)\n",
    "    cbar.ax.set_xlabel(cbar_label)\n",
    "\n",
    "    # Add coastlines and gridlines\n",
    "    ax.coastlines()\n",
    "    ax.gridlines(draw_labels=True)\n",
    "\n",
    "    # Set the title\n",
    "    ax.set_title(f'{name_metric}\\nAverage: {str(np.round(np.mean(metric),2))}\\n(Ideal value: {ideal_val})', fontsize=14)\n",
    "    if path_save == None:\n",
    "        plt.show()\n",
    "    else:\n",
    "        plt.savefig(path_save,bbox_inches='tight')\n",
    "    # return fig\n",
    "    "
   ]
  },
  {
   "cell_type": "code",
   "execution_count": 7,
   "id": "ba732361-dcf6-4b92-9f28-b420b36fa133",
   "metadata": {},
   "outputs": [],
   "source": [
    "path_base = '/glade/derecho/scratch/molina/'"
   ]
  },
  {
   "cell_type": "code",
   "execution_count": null,
   "id": "3adc838a-dbae-44c6-95e8-944fc03999b5",
   "metadata": {},
   "outputs": [
    {
     "name": "stdout",
     "output_type": "stream",
     "text": [
      "3\n"
     ]
    }
   ],
   "source": [
    "for week in [3,4]:\n",
    "    print(week)\n",
    "    folders_ensembles = np.sort(glob.glob(f'{path_base}cesm_tas2m_week{week}_m*/'))\n",
    "    list_arrays = []\n",
    "    for folder in folders_ensembles:\n",
    "        # print(folder)\n",
    "        list_files = np.sort(glob.glob(f'{folder}*.nc'))\n",
    "        dataset_member = xr.open_mfdataset(list_files,combine='nested',concat_dim=\"time\")\n",
    "        dataarray_member = dataset_member.tas_2m[:,0,0,:,:].drop_vars(['sample','ens'])\n",
    "        list_arrays.append(dataarray_member)\n",
    "        \n",
    "    ensemble = xr.concat(list_arrays,dim='member').transpose('time','lat','lon','member')\n",
    "    ensemble = ensemble.load()\n",
    "\n",
    "    files_era = np.sort(glob.glob(f'{path_base}era5_tas2m_week{week}/*.nc'))\n",
    "    dataset_era = xr.open_mfdataset(list_files,combine='nested',concat_dim=\"time\")\n",
    "    dataarray_era = dataset_member.tas_2m[:,0,0,:,:].drop_vars(['sample','ens'])\n",
    "    dataarray_era = dataarray_era.load()\n",
    "    \n",
    "    ### Compute metrics\n",
    "    \n",
    "    ssrel,ssrat = get_spread_skill_2d(dataarray_era.values,ensemble.values)\n",
    "    mf,di = get_discard_skill_2d(dataarray_era.values,ensemble.values)\n",
    "    pitd = get_pitd_2d(dataarray_era.values,ensemble.values)\n",
    "    crps = get_crps_2d(dataarray_era.values,ensemble.values)\n",
    "    # ign = get_ign_2d(dataarray_era.values,ensemble.values)\n",
    "    \n",
    "    metrics = [ssrel, ssrat, mf, di, pitd, crps]\n",
    "    names_metrics = ['Spread-skill reliability',\n",
    "             'Spread-skill ratio',\n",
    "             'Monotonicity fraction',\n",
    "             'Discard improvement',\n",
    "             'Probability integral transform deviation',\n",
    "             'Continuous ranked probability score'\n",
    "                    ]\n",
    "    short_names_metrics = ['ssrel', 'ssrat', 'mf', 'di', 'pitd', 'crps']\n",
    "    ideal_val_metric = ['0', '1', '1', 'Higher is better', '0', '0']\n",
    "    \n",
    "    lat = dataset_era.lat\n",
    "    lon = dataset_era.lon\n",
    "    \n",
    "    for i in range(len(metrics)):\n",
    "        np.save(f'OutputEvaluation/eval_cesm_tas2m_week{week}_{short_names_metrics[i]}.npy',(lat,lon,metrics[i]))\n",
    "        plot_metric(metrics[i],lat,lon,names_metrics[i],ideal_val_metric[i],\n",
    "                    path_save = f'Figures/eval_cesm_tas2m_week{week}_{short_names_metrics[i]}.png')"
   ]
  },
  {
   "cell_type": "code",
   "execution_count": null,
   "id": "18cfb8df-e0a5-4c9d-98f5-34a05bc47ffe",
   "metadata": {},
   "outputs": [],
   "source": []
  },
  {
   "cell_type": "code",
   "execution_count": null,
   "id": "534a35d9-b3ed-43e0-a1d9-27709c8ee1a8",
   "metadata": {},
   "outputs": [],
   "source": []
  },
  {
   "cell_type": "code",
   "execution_count": null,
   "id": "d5486fea-96fd-4792-8c7e-f867634c6b24",
   "metadata": {},
   "outputs": [],
   "source": []
  },
  {
   "cell_type": "code",
   "execution_count": null,
   "id": "5008d9b9-c755-4b25-9a32-d3a20fc39a82",
   "metadata": {},
   "outputs": [],
   "source": []
  },
  {
   "cell_type": "code",
   "execution_count": null,
   "id": "d09aa12b-b1ab-45a9-a764-430d7323434d",
   "metadata": {},
   "outputs": [],
   "source": []
  },
  {
   "cell_type": "code",
   "execution_count": null,
   "id": "79e03285-c4d1-4f98-bf2b-ecc6a198ec7d",
   "metadata": {},
   "outputs": [],
   "source": []
  },
  {
   "cell_type": "code",
   "execution_count": null,
   "id": "dea187cd-e348-468b-ac91-a9ee1c0c9c30",
   "metadata": {},
   "outputs": [],
   "source": []
  },
  {
   "cell_type": "code",
   "execution_count": null,
   "id": "5bff3b49-7b21-414c-a7c1-410ade60ed10",
   "metadata": {},
   "outputs": [],
   "source": []
  },
  {
   "cell_type": "code",
   "execution_count": null,
   "id": "bc13ea8e-38c1-4d1e-95d5-30dd20943b12",
   "metadata": {},
   "outputs": [],
   "source": []
  },
  {
   "cell_type": "code",
   "execution_count": null,
   "id": "017b8a22-b6fe-447c-b859-d93f211cfe6b",
   "metadata": {},
   "outputs": [],
   "source": []
  },
  {
   "cell_type": "code",
   "execution_count": null,
   "id": "48db364f-ff91-42fb-9ce2-d2eeec0ee5e1",
   "metadata": {},
   "outputs": [],
   "source": []
  },
  {
   "cell_type": "code",
   "execution_count": null,
   "id": "e0b74bfd-870f-4939-a540-254a9f81eadf",
   "metadata": {},
   "outputs": [],
   "source": []
  },
  {
   "cell_type": "code",
   "execution_count": null,
   "id": "b0f88e98-3f9c-4975-8165-4eeb7a4ada63",
   "metadata": {},
   "outputs": [],
   "source": []
  },
  {
   "cell_type": "code",
   "execution_count": null,
   "id": "6a5bec29-b79f-47dc-88a3-d749bc0b5351",
   "metadata": {},
   "outputs": [],
   "source": []
  },
  {
   "cell_type": "code",
   "execution_count": null,
   "id": "8602f1a0-052b-4c5e-9487-5f424d1610a2",
   "metadata": {},
   "outputs": [],
   "source": []
  },
  {
   "cell_type": "code",
   "execution_count": null,
   "id": "eee68b6a-1bdd-4672-bcf5-a978c4912626",
   "metadata": {},
   "outputs": [],
   "source": []
  }
 ],
 "metadata": {
  "kernelspec": {
   "display_name": "Python [conda env:s2sml-analysis]",
   "language": "python",
   "name": "conda-env-s2sml-analysis-py"
  },
  "language_info": {
   "codemirror_mode": {
    "name": "ipython",
    "version": 3
   },
   "file_extension": ".py",
   "mimetype": "text/x-python",
   "name": "python",
   "nbconvert_exporter": "python",
   "pygments_lexer": "ipython3",
   "version": "3.10.9"
  }
 },
 "nbformat": 4,
 "nbformat_minor": 5
}
