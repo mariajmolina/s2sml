{
 "cells": [
  {
   "cell_type": "markdown",
   "id": "41fad0f0-c8fd-434b-8e2e-e2d90fedbc18",
   "metadata": {},
   "source": [
    "# Testing batch loader randomness"
   ]
  },
  {
   "cell_type": "code",
   "execution_count": 1,
   "id": "48e87d6b-9949-40cf-9cf1-ecfa4e495a52",
   "metadata": {},
   "outputs": [],
   "source": [
    "import s2sml.torch_s2s_dataset as torch_s2s_dataset\n",
    "from torch.utils.data import DataLoader\n",
    "import torch"
   ]
  },
  {
   "cell_type": "code",
   "execution_count": 2,
   "id": "beb573a5-a632-4a33-b182-b1123e9e64bb",
   "metadata": {},
   "outputs": [
    {
     "data": {
      "text/plain": [
       "<module 's2sml.torch_s2s_dataset' from '/glade/work/kdagon/conda-envs/s2sml-env/lib/python3.10/site-packages/s2sml/torch_s2s_dataset.py'>"
      ]
     },
     "execution_count": 2,
     "metadata": {},
     "output_type": "execute_result"
    }
   ],
   "source": [
    "# to modify custom dataset, use the location here (not code in repo)\n",
    "torch_s2s_dataset"
   ]
  },
  {
   "cell_type": "code",
   "execution_count": 3,
   "id": "0318bfb2-7d97-472c-ab80-0f8c97d5f757",
   "metadata": {},
   "outputs": [],
   "source": [
    "import matplotlib.pyplot as plt\n",
    "import numpy as np\n",
    "import random"
   ]
  },
  {
   "cell_type": "code",
   "execution_count": 4,
   "id": "7120a90a-a714-4e0d-9172-73214c09344d",
   "metadata": {},
   "outputs": [],
   "source": [
    "import os"
   ]
  },
  {
   "cell_type": "markdown",
   "id": "fdac5409-5a99-4552-9a9f-5cc8b2e689c4",
   "metadata": {},
   "source": [
    "## Config settings"
   ]
  },
  {
   "cell_type": "code",
   "execution_count": 5,
   "id": "5dbec367-2c2a-45e6-bac1-a87c28d2b48b",
   "metadata": {},
   "outputs": [],
   "source": [
    "# Data: from KD randtest_719 config settings (region example)\n",
    "homedir = '/glade/derecho/scratch/molina/' #conf[\"data\"][\"homedir\"]\n",
    "\n",
    "var = \"tas2m\" #conf[\"data\"][\"var\"]\n",
    "wks = 3 #conf[\"data\"][\"wks\"]\n",
    "dxdy = 31 #conf[\"data\"][\"dxdy\"]\n",
    "lat0 = -55.0 #conf[\"data\"][\"lat0\"]\n",
    "lon0 = 280.0 #conf[\"data\"][\"lon0\"]\n",
    "norm = \"minmax\" #conf[\"data\"][\"norm\"]\n",
    "norm_pixel = False #conf[\"data\"][\"norm_pixel\"]\n",
    "dual_norm = False #conf[\"data\"][\"dual_norm\"]\n",
    "region = \"fixed\" #conf[\"data\"][\"region\"]\n",
    "\n",
    "feattopo = True #conf[\"data\"][\"feat_topo\"]\n",
    "featcoord = True #conf[\"data\"][\"feat_coord\"]"
   ]
  },
  {
   "cell_type": "markdown",
   "id": "599c54c8-f6cf-4f15-836b-0be23fbfceb3",
   "metadata": {},
   "source": [
    "## Create dataset"
   ]
  },
  {
   "cell_type": "code",
   "execution_count": 6,
   "id": "00397a94-7983-48b9-96a7-e71db5845b76",
   "metadata": {},
   "outputs": [],
   "source": [
    "train = torch_s2s_dataset.S2SDataset(\n",
    "                week=wks,\n",
    "                variable=var,\n",
    "                norm=norm,\n",
    "                norm_pixel=norm_pixel,\n",
    "                dual_norm=dual_norm,\n",
    "                region=region,\n",
    "                minv=None,\n",
    "                maxv=None,\n",
    "                mini=None,\n",
    "                maxi=None,\n",
    "                mnv=None,\n",
    "                stdv=None,\n",
    "                mni=None,\n",
    "                stdi=None,\n",
    "                lon0=lon0,\n",
    "                lat0=lat0,\n",
    "                dxdy=dxdy,\n",
    "                feat_topo=feattopo,\n",
    "                feat_lats=featcoord,\n",
    "                feat_lons=featcoord,\n",
    "                startdt=\"1999-02-01\",\n",
    "                enddt=\"1999-12-31\",\n",
    "                #enddt=\"2000-12-31\",\n",
    "                #enddt=\"2014-12-31\",\n",
    "                homedir=homedir,\n",
    ")"
   ]
  },
  {
   "cell_type": "markdown",
   "id": "3877c664-856c-4686-aa2b-1b9a091f6bcf",
   "metadata": {},
   "source": [
    "### Inspect some properties of `train`"
   ]
  },
  {
   "cell_type": "code",
   "execution_count": 7,
   "id": "82a10f52-b25e-4fb4-be59-278d41fe40e5",
   "metadata": {},
   "outputs": [
    {
     "data": {
      "text/plain": [
       "'/glade/derecho/scratch/molina/cesm_tas2m_week3/'"
      ]
     },
     "execution_count": 7,
     "metadata": {},
     "output_type": "execute_result"
    }
   ],
   "source": [
    "# file directory\n",
    "train.cesm_dir"
   ]
  },
  {
   "cell_type": "code",
   "execution_count": 8,
   "id": "1f6c9efd-3413-45e9-b5e5-63ec9bade90d",
   "metadata": {},
   "outputs": [
    {
     "data": {
      "text/plain": [
       "['/glade/derecho/scratch/molina/cesm_tas2m_week3/cm_tas2m_19990201.nc',\n",
       " '/glade/derecho/scratch/molina/cesm_tas2m_week3/cm_tas2m_19990208.nc',\n",
       " '/glade/derecho/scratch/molina/cesm_tas2m_week3/cm_tas2m_19990215.nc',\n",
       " '/glade/derecho/scratch/molina/cesm_tas2m_week3/cm_tas2m_19990222.nc',\n",
       " '/glade/derecho/scratch/molina/cesm_tas2m_week3/cm_tas2m_19990301.nc',\n",
       " '/glade/derecho/scratch/molina/cesm_tas2m_week3/cm_tas2m_19990308.nc',\n",
       " '/glade/derecho/scratch/molina/cesm_tas2m_week3/cm_tas2m_19990315.nc',\n",
       " '/glade/derecho/scratch/molina/cesm_tas2m_week3/cm_tas2m_19990322.nc',\n",
       " '/glade/derecho/scratch/molina/cesm_tas2m_week3/cm_tas2m_19990329.nc',\n",
       " '/glade/derecho/scratch/molina/cesm_tas2m_week3/cm_tas2m_19990405.nc',\n",
       " '/glade/derecho/scratch/molina/cesm_tas2m_week3/cm_tas2m_19990412.nc',\n",
       " '/glade/derecho/scratch/molina/cesm_tas2m_week3/cm_tas2m_19990419.nc',\n",
       " '/glade/derecho/scratch/molina/cesm_tas2m_week3/cm_tas2m_19990426.nc',\n",
       " '/glade/derecho/scratch/molina/cesm_tas2m_week3/cm_tas2m_19990503.nc',\n",
       " '/glade/derecho/scratch/molina/cesm_tas2m_week3/cm_tas2m_19990510.nc',\n",
       " '/glade/derecho/scratch/molina/cesm_tas2m_week3/cm_tas2m_19990517.nc',\n",
       " '/glade/derecho/scratch/molina/cesm_tas2m_week3/cm_tas2m_19990524.nc',\n",
       " '/glade/derecho/scratch/molina/cesm_tas2m_week3/cm_tas2m_19990531.nc',\n",
       " '/glade/derecho/scratch/molina/cesm_tas2m_week3/cm_tas2m_19990607.nc',\n",
       " '/glade/derecho/scratch/molina/cesm_tas2m_week3/cm_tas2m_19990614.nc',\n",
       " '/glade/derecho/scratch/molina/cesm_tas2m_week3/cm_tas2m_19990621.nc',\n",
       " '/glade/derecho/scratch/molina/cesm_tas2m_week3/cm_tas2m_19990628.nc',\n",
       " '/glade/derecho/scratch/molina/cesm_tas2m_week3/cm_tas2m_19990705.nc',\n",
       " '/glade/derecho/scratch/molina/cesm_tas2m_week3/cm_tas2m_19990712.nc',\n",
       " '/glade/derecho/scratch/molina/cesm_tas2m_week3/cm_tas2m_19990719.nc',\n",
       " '/glade/derecho/scratch/molina/cesm_tas2m_week3/cm_tas2m_19990726.nc',\n",
       " '/glade/derecho/scratch/molina/cesm_tas2m_week3/cm_tas2m_19990802.nc',\n",
       " '/glade/derecho/scratch/molina/cesm_tas2m_week3/cm_tas2m_19990809.nc',\n",
       " '/glade/derecho/scratch/molina/cesm_tas2m_week3/cm_tas2m_19990816.nc',\n",
       " '/glade/derecho/scratch/molina/cesm_tas2m_week3/cm_tas2m_19990823.nc',\n",
       " '/glade/derecho/scratch/molina/cesm_tas2m_week3/cm_tas2m_19990830.nc',\n",
       " '/glade/derecho/scratch/molina/cesm_tas2m_week3/cm_tas2m_19990906.nc',\n",
       " '/glade/derecho/scratch/molina/cesm_tas2m_week3/cm_tas2m_19990913.nc',\n",
       " '/glade/derecho/scratch/molina/cesm_tas2m_week3/cm_tas2m_19990920.nc',\n",
       " '/glade/derecho/scratch/molina/cesm_tas2m_week3/cm_tas2m_19990927.nc',\n",
       " '/glade/derecho/scratch/molina/cesm_tas2m_week3/cm_tas2m_19991004.nc',\n",
       " '/glade/derecho/scratch/molina/cesm_tas2m_week3/cm_tas2m_19991011.nc',\n",
       " '/glade/derecho/scratch/molina/cesm_tas2m_week3/cm_tas2m_19991018.nc',\n",
       " '/glade/derecho/scratch/molina/cesm_tas2m_week3/cm_tas2m_19991025.nc',\n",
       " '/glade/derecho/scratch/molina/cesm_tas2m_week3/cm_tas2m_19991101.nc',\n",
       " '/glade/derecho/scratch/molina/cesm_tas2m_week3/cm_tas2m_19991108.nc',\n",
       " '/glade/derecho/scratch/molina/cesm_tas2m_week3/cm_tas2m_19991115.nc',\n",
       " '/glade/derecho/scratch/molina/cesm_tas2m_week3/cm_tas2m_19991122.nc',\n",
       " '/glade/derecho/scratch/molina/cesm_tas2m_week3/cm_tas2m_19991129.nc',\n",
       " '/glade/derecho/scratch/molina/cesm_tas2m_week3/cm_tas2m_19991206.nc',\n",
       " '/glade/derecho/scratch/molina/cesm_tas2m_week3/cm_tas2m_19991213.nc',\n",
       " '/glade/derecho/scratch/molina/cesm_tas2m_week3/cm_tas2m_19991220.nc',\n",
       " '/glade/derecho/scratch/molina/cesm_tas2m_week3/cm_tas2m_19991227.nc']"
      ]
     },
     "execution_count": 8,
     "metadata": {},
     "output_type": "execute_result"
    }
   ],
   "source": [
    "# list of files\n",
    "train.list_of_cesm"
   ]
  },
  {
   "cell_type": "code",
   "execution_count": 9,
   "id": "5c9233b0-69c4-48f7-9525-3c25fc6a2d0c",
   "metadata": {},
   "outputs": [
    {
     "name": "stdout",
     "output_type": "stream",
     "text": [
      "15 21\n"
     ]
    }
   ],
   "source": [
    "# days of the month for week 3 leadtime\n",
    "print(train.day_init, train.day_end)"
   ]
  },
  {
   "cell_type": "code",
   "execution_count": 10,
   "id": "426a393e-9d94-482f-bc88-367a2d083d5e",
   "metadata": {
    "tags": []
   },
   "outputs": [
    {
     "ename": "AttributeError",
     "evalue": "'S2SDataset' object has no attribute 'img_train'",
     "output_type": "error",
     "traceback": [
      "\u001b[0;31m---------------------------------------------------------------------------\u001b[0m",
      "\u001b[0;31mAttributeError\u001b[0m                            Traceback (most recent call last)",
      "Cell \u001b[0;32mIn[10], line 2\u001b[0m\n\u001b[1;32m      1\u001b[0m \u001b[38;5;66;03m# this only gets put in here after Dataloader step?\u001b[39;00m\n\u001b[0;32m----> 2\u001b[0m \u001b[43mtrain\u001b[49m\u001b[38;5;241;43m.\u001b[39;49m\u001b[43mimg_train\u001b[49m\n",
      "\u001b[0;31mAttributeError\u001b[0m: 'S2SDataset' object has no attribute 'img_train'"
     ]
    }
   ],
   "source": [
    "# this only gets put in here after Dataloader step?\n",
    "train.img_train"
   ]
  },
  {
   "cell_type": "code",
   "execution_count": 11,
   "id": "cbe5d3df-8658-47ed-b1a3-79f6fce43cf0",
   "metadata": {},
   "outputs": [
    {
     "data": {
      "text/plain": [
       "(4, 1, 32, 32)"
      ]
     },
     "execution_count": 11,
     "metadata": {},
     "output_type": "execute_result"
    }
   ],
   "source": [
    "# example of how to index train (it is a list)\n",
    "train[0][\"input\"].shape # dims are input channel x sample x lat x lon (or something similar)"
   ]
  },
  {
   "cell_type": "code",
   "execution_count": 12,
   "id": "42e13dac-7168-45b8-900c-0c6e30fc77ff",
   "metadata": {},
   "outputs": [
    {
     "data": {
      "text/plain": [
       "48"
      ]
     },
     "execution_count": 12,
     "metadata": {},
     "output_type": "execute_result"
    }
   ],
   "source": [
    "len(train.list_of_cesm)"
   ]
  },
  {
   "cell_type": "code",
   "execution_count": 13,
   "id": "6751f774-446c-4f7e-bd37-bda184f36606",
   "metadata": {},
   "outputs": [
    {
     "name": "stdout",
     "output_type": "stream",
     "text": [
      "0.5087181329727173\n",
      "0.5062133073806763\n",
      "0.504371166229248\n",
      "0.5024085640907288\n",
      "0.5035187602043152\n",
      "0.5023218989372253\n",
      "0.4869505763053894\n",
      "0.4903753399848938\n",
      "0.4902275502681732\n",
      "0.4775298535823822\n",
      "0.48058339953422546\n",
      "0.4723659157752991\n",
      "0.46437421441078186\n",
      "0.4619479179382324\n",
      "0.47388046979904175\n",
      "0.46676212549209595\n",
      "0.4668988585472107\n",
      "0.4664851725101471\n",
      "0.4575706422328949\n",
      "0.4487672746181488\n",
      "0.4600772559642792\n",
      "0.46168723702430725\n",
      "0.4514658749103546\n",
      "0.4451068341732025\n",
      "0.44416600465774536\n",
      "0.4464462697505951\n",
      "0.4501613676548004\n",
      "0.4569172263145447\n",
      "0.4605066776275635\n",
      "0.46429917216300964\n",
      "0.47283023595809937\n",
      "0.4600900709629059\n",
      "0.463379830121994\n",
      "0.4751553237438202\n",
      "0.47687700390815735\n",
      "0.470411479473114\n",
      "0.45766374468803406\n",
      "0.47154319286346436\n",
      "0.47409868240356445\n",
      "0.47838282585144043\n",
      "0.48400989174842834\n",
      "0.48804035782814026\n",
      "0.4873875379562378\n",
      "0.4954996705055237\n",
      "0.506888210773468\n",
      "0.5000887513160706\n",
      "0.4955613613128662\n",
      "0.5025650858879089\n"
     ]
    }
   ],
   "source": [
    "# print out the values\n",
    "for i in range(len(train.list_of_cesm)):\n",
    "    print(train[i][\"input\"][3,0,0,0]) # last input channel (tas2m?) and the first spatial index"
   ]
  },
  {
   "cell_type": "code",
   "execution_count": 14,
   "id": "cbe87617-45d5-464e-bb52-952d08243473",
   "metadata": {},
   "outputs": [
    {
     "data": {
      "text/plain": [
       "48"
      ]
     },
     "execution_count": 14,
     "metadata": {},
     "output_type": "execute_result"
    }
   ],
   "source": [
    "# The __len__ function returns the number of samples in our dataset.\n",
    "train.__len__()"
   ]
  },
  {
   "cell_type": "code",
   "execution_count": 15,
   "id": "acd9aee9-141e-44bc-9ac4-90cd4ae87cf8",
   "metadata": {},
   "outputs": [
    {
     "data": {
      "text/plain": [
       "{'input': array([[[[-1.67025251e-04, -1.67025251e-04, -1.67025251e-04, ...,\n",
       "           -1.67025251e-04, -1.67025251e-04, -1.67025251e-04],\n",
       "          [-1.67025251e-04, -1.67025251e-04, -1.67025251e-04, ...,\n",
       "           -1.67025251e-04, -1.67025251e-04, -1.67025251e-04],\n",
       "          [-1.67025251e-04, -1.67025251e-04, -1.67025251e-04, ...,\n",
       "           -1.67025251e-04, -1.67025251e-04, -1.67025251e-04],\n",
       "          ...,\n",
       "          [-1.67025251e-04, -1.67025251e-04, -1.67025251e-04, ...,\n",
       "            1.70076180e-01,  1.08780237e-01,  1.43036870e-01],\n",
       "          [-1.67025251e-04, -1.67025251e-04, -1.67025251e-04, ...,\n",
       "            1.38709897e-01,  1.63850811e-01,  1.11277225e-01],\n",
       "          [-1.67025251e-04, -1.67025251e-04, -1.67025251e-04, ...,\n",
       "            1.56188818e-01,  1.61336720e-01,  1.17605211e-01]]],\n",
       " \n",
       " \n",
       "        [[[-5.64862549e-01, -5.78855455e-01, -5.92672050e-01, ...,\n",
       "           -8.85139346e-01, -8.92538905e-01, -8.99666607e-01],\n",
       "          [-5.63038230e-01, -5.76985955e-01, -5.90757966e-01, ...,\n",
       "           -8.82280648e-01, -8.89656305e-01, -8.96761000e-01],\n",
       "          [-5.61042428e-01, -5.74940741e-01, -5.88663876e-01, ...,\n",
       "           -8.79153252e-01, -8.86502802e-01, -8.93582284e-01],\n",
       "          ...,\n",
       "          [-4.45752621e-01, -4.56794947e-01, -4.67698097e-01, ...,\n",
       "           -6.98494196e-01, -7.04333425e-01, -7.09958136e-01],\n",
       "          [-4.39385056e-01, -4.50269610e-01, -4.61017013e-01, ...,\n",
       "           -6.88516200e-01, -6.94272041e-01, -6.99816406e-01],\n",
       "          [-4.32883650e-01, -4.43607181e-01, -4.54195559e-01, ...,\n",
       "           -6.78328514e-01, -6.83999181e-01, -6.89461529e-01]]],\n",
       " \n",
       " \n",
       "        [[[ 9.96005312e-02,  1.02067865e-01,  1.04504101e-01, ...,\n",
       "            1.56073987e-01,  1.57378733e-01,  1.58635542e-01],\n",
       "          [ 1.09443583e-01,  1.12154745e-01,  1.14831746e-01, ...,\n",
       "            1.71498045e-01,  1.72931731e-01,  1.74312741e-01],\n",
       "          [ 1.19253226e-01,  1.22207403e-01,  1.25124350e-01, ...,\n",
       "            1.86869755e-01,  1.88431948e-01,  1.89936742e-01],\n",
       "          ...,\n",
       "          [ 3.60963345e-01,  3.69905233e-01,  3.78734440e-01, ...,\n",
       "            5.65629423e-01,  5.70357919e-01,  5.74912786e-01],\n",
       "          [ 3.68687809e-01,  3.77821058e-01,  3.86839181e-01, ...,\n",
       "            5.77733636e-01,  5.82563341e-01,  5.87215662e-01],\n",
       "          [ 3.76300007e-01,  3.85621816e-01,  3.94826144e-01, ...,\n",
       "            5.89661956e-01,  5.94591379e-01,  5.99339724e-01]]],\n",
       " \n",
       " \n",
       "        [[[ 5.08718133e-01,  5.17961979e-01,  5.27360618e-01, ...,\n",
       "            7.14895427e-01,  7.17287421e-01,  7.20072150e-01],\n",
       "          [ 5.10520160e-01,  5.20309150e-01,  5.30180812e-01, ...,\n",
       "            7.09930480e-01,  7.12773979e-01,  7.16252863e-01],\n",
       "          [ 5.12753248e-01,  5.23192823e-01,  5.33329785e-01, ...,\n",
       "            7.05571830e-01,  7.08934963e-01,  7.13137627e-01],\n",
       "          ...,\n",
       "          [ 5.06946385e-01,  5.13183236e-01,  5.18542111e-01, ...,\n",
       "            7.68113732e-01,  7.83150434e-01,  8.08491170e-01],\n",
       "          [ 5.05207837e-01,  5.10140181e-01,  5.14271915e-01, ...,\n",
       "            7.74232447e-01,  7.76392817e-01,  7.95932531e-01],\n",
       "          [ 5.02967119e-01,  5.07080793e-01,  5.10023832e-01, ...,\n",
       "            8.20792019e-01,  8.03758979e-01,  8.00429046e-01]]]]),\n",
       " 'label': array([[[[0.51198584, 0.5223788 , 0.53496015, ..., 0.7191755 ,\n",
       "           0.72375405, 0.7283792 ],\n",
       "          [0.5137174 , 0.5277254 , 0.5369437 , ..., 0.71951413,\n",
       "           0.725929  , 0.7326715 ],\n",
       "          [0.51640147, 0.5298643 , 0.53822315, ..., 0.7183935 ,\n",
       "           0.7280423 , 0.7358222 ],\n",
       "          ...,\n",
       "          [0.48521492, 0.50280774, 0.50850284, ..., 0.7584102 ,\n",
       "           0.78220904, 0.7921482 ],\n",
       "          [0.489662  , 0.5001434 , 0.5052224 , ..., 0.76656073,\n",
       "           0.76759064, 0.7973336 ],\n",
       "          [0.48720193, 0.49774095, 0.5011814 , ..., 0.77543396,\n",
       "           0.77680653, 0.7977793 ]]]], dtype=float32),\n",
       " 'lmask': array([[[0., 0., 0., ..., 0., 0., 0.],\n",
       "         [0., 0., 0., ..., 0., 0., 0.],\n",
       "         [0., 0., 0., ..., 0., 0., 0.],\n",
       "         ...,\n",
       "         [0., 0., 0., ..., 1., 1., 1.],\n",
       "         [0., 0., 0., ..., 1., 1., 1.],\n",
       "         [0., 0., 0., ..., 1., 1., 1.]]]),\n",
       " 'index': 0}"
      ]
     },
     "execution_count": 15,
     "metadata": {},
     "output_type": "execute_result"
    }
   ],
   "source": [
    "# The __getitem__ function loads and returns a sample from the dataset at the given index idx.\n",
    "train.__getitem__(0)"
   ]
  },
  {
   "cell_type": "markdown",
   "id": "4f6012b2-c541-45ce-a94b-dfd4522ae00d",
   "metadata": {
    "jp-MarkdownHeadingCollapsed": true,
    "tags": []
   },
   "source": [
    "## First test: Batch size and dataloader"
   ]
  },
  {
   "cell_type": "code",
   "execution_count": 9,
   "id": "532460fc-dcd0-4669-a4eb-4cb05b497694",
   "metadata": {},
   "outputs": [],
   "source": [
    "train_batch_size = 32 #conf[\"trainer\"][\"train_batch_size\"]"
   ]
  },
  {
   "cell_type": "code",
   "execution_count": 17,
   "id": "64f25f81-215e-44f5-9ce1-2a2399ee27fe",
   "metadata": {},
   "outputs": [],
   "source": [
    "train_loader = DataLoader(\n",
    "                train, batch_size=train_batch_size, shuffle=True, drop_last=True\n",
    ")"
   ]
  },
  {
   "cell_type": "markdown",
   "id": "61ea8a83-8e24-43d3-b4dd-254503da96a7",
   "metadata": {},
   "source": [
    "### Print out values in a loop that grabs the batches (no seeds set)"
   ]
  },
  {
   "cell_type": "code",
   "execution_count": 20,
   "id": "5ab234d9-2cfa-48f6-a53a-d7419be81da2",
   "metadata": {},
   "outputs": [
    {
     "data": {
      "text/plain": [
       "<torch.utils.data.dataloader._SingleProcessDataLoaderIter at 0x2ba73b7cb250>"
      ]
     },
     "execution_count": 20,
     "metadata": {},
     "output_type": "execute_result"
    }
   ],
   "source": [
    "iter(train_loader)"
   ]
  },
  {
   "cell_type": "code",
   "execution_count": 21,
   "id": "584afb6f-190a-4288-aaa2-0b26016c236e",
   "metadata": {},
   "outputs": [
    {
     "data": {
      "text/plain": [
       "4"
      ]
     },
     "execution_count": 21,
     "metadata": {},
     "output_type": "execute_result"
    }
   ],
   "source": [
    "len(next(iter(train_loader)))"
   ]
  },
  {
   "cell_type": "code",
   "execution_count": 22,
   "id": "acfe01a3-0600-492f-8ace-9ff4889283b1",
   "metadata": {},
   "outputs": [
    {
     "name": "stdout",
     "output_type": "stream",
     "text": [
      "input label lmask index\n"
     ]
    }
   ],
   "source": [
    "a, b, c, d = next(iter(train_loader))\n",
    "print(a, b, c, d)"
   ]
  },
  {
   "cell_type": "code",
   "execution_count": 24,
   "id": "55c2e30f-07c8-42a6-bc52-06e4ef379e85",
   "metadata": {},
   "outputs": [
    {
     "name": "stdout",
     "output_type": "stream",
     "text": [
      "tensor([0.4902, 0.5069, 0.5087, 0.4904, 0.4739, 0.4955, 0.4769, 0.4576, 0.4752,\n",
      "        0.5023, 0.4741, 0.4634, 0.4451, 0.4880, 0.4784, 0.4619, 0.4668, 0.4515,\n",
      "        0.4665, 0.5044, 0.4502, 0.5062, 0.4601, 0.4601, 0.4728, 0.4643, 0.4704,\n",
      "        0.4464, 0.5024, 0.4442, 0.4577, 0.5001], dtype=torch.float64) tensor([ 8, 44,  0,  7, 14, 43, 34, 18, 33,  5, 38, 32, 23, 41, 39, 13, 15, 22,\n",
      "        17,  2, 26,  1, 20, 31, 30, 29, 35, 25,  3, 24, 36, 45])\n"
     ]
    },
    {
     "data": {
      "image/png": "[encoded data removed]",
      "text/plain": [
       "<Figure size 640x480 with 1 Axes>"
      ]
     },
     "metadata": {},
     "output_type": "display_data"
    }
   ],
   "source": [
    "for data in train_loader:\n",
    "    #print(data[\"input\"].squeeze(dim=2).shape) # dims are batch size x input channel x lat x lon (or something similar)\n",
    "    x = data[\"input\"].squeeze(dim=2)[:,3,0,0] # select all the batches for the last input channel (tas2m?) and the first spatial index\n",
    "    i = data[\"index\"]\n",
    "    print(x, i) \n",
    "    plt.hist(x)"
   ]
  },
  {
   "cell_type": "markdown",
   "id": "edc66113-99af-4eaf-acb0-2f3fa12f9184",
   "metadata": {},
   "source": [
    "### Values change each time you run this (notice that the histogram is different)"
   ]
  },
  {
   "cell_type": "code",
   "execution_count": 25,
   "id": "71623d2b-ac19-4cfb-9b08-d08673504027",
   "metadata": {},
   "outputs": [
    {
     "name": "stdout",
     "output_type": "stream",
     "text": [
      "tensor([0.4728, 0.4515, 0.4442, 0.5035, 0.4601, 0.4902, 0.4605, 0.4724, 0.5024,\n",
      "        0.4668, 0.4464, 0.4956, 0.4634, 0.5044, 0.4451, 0.5062, 0.4569, 0.4665,\n",
      "        0.4870, 0.4840, 0.4904, 0.5023, 0.5069, 0.4643, 0.5001, 0.5026, 0.4752,\n",
      "        0.4880, 0.4874, 0.4601, 0.4488, 0.4741], dtype=torch.float64) tensor([30, 22, 24,  4, 20,  8, 28, 11,  3, 15, 25, 46, 32,  2, 23,  1, 27, 17,\n",
      "         6, 40,  7,  5, 44, 29, 45, 47, 33, 41, 42, 31, 19, 38])\n"
     ]
    },
    {
     "data": {
      "image/png": "[encoded data removed]",
      "text/plain": [
       "<Figure size 640x480 with 1 Axes>"
      ]
     },
     "metadata": {},
     "output_type": "display_data"
    }
   ],
   "source": [
    "for data in train_loader:\n",
    "    x = data[\"input\"].squeeze(dim=2)[:,3,0,0]\n",
    "    i = data[\"index\"]\n",
    "    print(x, i)\n",
    "    plt.hist(x)"
   ]
  },
  {
   "cell_type": "markdown",
   "id": "c11259ec-cdcd-4bf5-8710-c1f463dc4d6a",
   "metadata": {
    "jp-MarkdownHeadingCollapsed": true,
    "tags": []
   },
   "source": [
    "## Next test: match batch size to number of time samples"
   ]
  },
  {
   "cell_type": "code",
   "execution_count": 26,
   "id": "9691184e-cd5b-4529-b6ca-1b93f7cd545b",
   "metadata": {},
   "outputs": [
    {
     "data": {
      "text/plain": [
       "48"
      ]
     },
     "execution_count": 26,
     "metadata": {},
     "output_type": "execute_result"
    }
   ],
   "source": [
    "len(train.list_of_cesm) # 48 time samples"
   ]
  },
  {
   "cell_type": "code",
   "execution_count": 8,
   "id": "a06dfff0-3edc-48ae-b42d-30f55d11a880",
   "metadata": {},
   "outputs": [],
   "source": [
    "train_batch_size_v2 = 48"
   ]
  },
  {
   "cell_type": "markdown",
   "id": "378da567-8ec4-457a-8be5-4a61049c4ab0",
   "metadata": {},
   "source": [
    "### New instance of dataloader with different batch size"
   ]
  },
  {
   "cell_type": "code",
   "execution_count": 28,
   "id": "6fab4d92-7099-4126-a0cc-9f834143e0dc",
   "metadata": {},
   "outputs": [],
   "source": [
    "train_loader_match = DataLoader(\n",
    "    train, batch_size=train_batch_size_v2, shuffle=True, drop_last=True\n",
    ")"
   ]
  },
  {
   "cell_type": "code",
   "execution_count": 30,
   "id": "59bece5f-67ea-4ec6-9d88-fda1606148fa",
   "metadata": {
    "tags": []
   },
   "outputs": [
    {
     "data": {
      "text/plain": [
       "<torch.utils.data.sampler.RandomSampler at 0x2ba73b9cb5b0>"
      ]
     },
     "execution_count": 30,
     "metadata": {},
     "output_type": "execute_result"
    }
   ],
   "source": [
    "# verify random sampling\n",
    "train_loader_match.batch_sampler.sampler"
   ]
  },
  {
   "cell_type": "code",
   "execution_count": 32,
   "id": "45935cff-9db0-4f0e-8642-9bdd2350aa67",
   "metadata": {
    "tags": []
   },
   "outputs": [],
   "source": [
    "# verify no generator set\n",
    "train_loader_match.generator"
   ]
  },
  {
   "cell_type": "code",
   "execution_count": 33,
   "id": "17ff7f1a-5c58-46df-ac37-79e7eb013b4c",
   "metadata": {
    "tags": []
   },
   "outputs": [],
   "source": [
    "# verify no worker_init_fn set\n",
    "train_loader_match.worker_init_fn"
   ]
  },
  {
   "cell_type": "code",
   "execution_count": 34,
   "id": "baddfcf6-3ced-4abf-a60c-5c787b187428",
   "metadata": {},
   "outputs": [
    {
     "name": "stdout",
     "output_type": "stream",
     "text": [
      "tensor([0.4874, 0.4669, 0.4634, 0.4576, 0.4775, 0.5001, 0.4902, 0.5087, 0.4870,\n",
      "        0.4451, 0.4769, 0.4724, 0.4643, 0.4806, 0.4704, 0.4784, 0.4715, 0.4668,\n",
      "        0.4739, 0.5035, 0.4515, 0.4502, 0.4644, 0.4605, 0.5026, 0.4741, 0.4617,\n",
      "        0.4577, 0.4956, 0.5044, 0.5069, 0.4880, 0.4601, 0.4955, 0.4752, 0.4488,\n",
      "        0.5023, 0.4728, 0.4840, 0.4904, 0.5062, 0.4464, 0.4569, 0.4619, 0.4442,\n",
      "        0.4601, 0.5024, 0.4665], dtype=torch.float64) tensor([42, 16, 32, 18,  9, 45,  8,  0,  6, 23, 34, 11, 29, 10, 35, 39, 37, 15,\n",
      "        14,  4, 22, 26, 12, 28, 47, 38, 21, 36, 46,  2, 44, 41, 31, 43, 33, 19,\n",
      "         5, 30, 40,  7,  1, 25, 27, 13, 24, 20,  3, 17])\n"
     ]
    },
    {
     "data": {
      "image/png": "[encoded data removed]",
      "text/plain": [
       "<Figure size 640x480 with 1 Axes>"
      ]
     },
     "metadata": {},
     "output_type": "display_data"
    }
   ],
   "source": [
    "for data in train_loader_match:\n",
    "    #print(data[\"input\"].squeeze(dim=2).shape) # dims are batch size x input channel x lat x lon (or something similar)\n",
    "    x = data[\"input\"].squeeze(dim=2)[:,3,0,0] # all the batches for the last input channel and the first spatial index\n",
    "    i = data[\"index\"]\n",
    "    print(x,i) \n",
    "    plt.hist(x)"
   ]
  },
  {
   "cell_type": "markdown",
   "id": "76d2b360-6dad-4119-88f2-9e61743ce857",
   "metadata": {},
   "source": [
    "### plot is the same but the order is different"
   ]
  },
  {
   "cell_type": "code",
   "execution_count": 42,
   "id": "05315eb8-d95b-4a37-bee1-f6f2af0ed8a5",
   "metadata": {},
   "outputs": [
    {
     "name": "stdout",
     "output_type": "stream",
     "text": [
      "tensor([0.4502, 0.4741, 0.4784, 0.4870, 0.5069, 0.4488, 0.4577, 0.4464, 0.4451,\n",
      "        0.4668, 0.4576, 0.4956, 0.4634, 0.4601, 0.5024, 0.4617, 0.5001, 0.5087,\n",
      "        0.4769, 0.4806, 0.5062, 0.4619, 0.4880, 0.4601, 0.5023, 0.4643, 0.5035,\n",
      "        0.4704, 0.4739, 0.4442, 0.4874, 0.4752, 0.4605, 0.4665, 0.4955, 0.5026,\n",
      "        0.4515, 0.4728, 0.4840, 0.4715, 0.4902, 0.4644, 0.4569, 0.4724, 0.4904,\n",
      "        0.4669, 0.5044, 0.4775], dtype=torch.float64) tensor([26, 38, 39,  6, 44, 19, 36, 25, 23, 15, 18, 46, 32, 31,  3, 21, 45,  0,\n",
      "        34, 10,  1, 13, 41, 20,  5, 29,  4, 35, 14, 24, 42, 33, 28, 17, 43, 47,\n",
      "        22, 30, 40, 37,  8, 12, 27, 11,  7, 16,  2,  9])\n"
     ]
    },
    {
     "data": {
      "image/png": "[encoded data removed]",
      "text/plain": [
       "<Figure size 640x480 with 1 Axes>"
      ]
     },
     "metadata": {},
     "output_type": "display_data"
    }
   ],
   "source": [
    "for data in train_loader_match:\n",
    "    #print(data[\"input\"].squeeze(dim=2).shape) # dims are batch size x input channel x lat x lon (or something similar)\n",
    "    x = data[\"input\"].squeeze(dim=2)[:,3,0,0] # all the batches for the last input channel and the first spatial index\n",
    "    i = data[\"index\"]\n",
    "    print(x,i) \n",
    "    plt.hist(x)"
   ]
  },
  {
   "cell_type": "markdown",
   "id": "19241f50-fc4a-4e8e-b186-da3c0e6bfd30",
   "metadata": {
    "jp-MarkdownHeadingCollapsed": true,
    "tags": []
   },
   "source": [
    "## Next test: try `shuffle=False` with yet another dataloader"
   ]
  },
  {
   "cell_type": "code",
   "execution_count": 10,
   "id": "5fcb3992-e7e1-49f1-ba89-5735e23ecd79",
   "metadata": {},
   "outputs": [],
   "source": [
    "train_loader_match_shuffle = DataLoader(\n",
    "    train, batch_size=train_batch_size_v2, shuffle=False, drop_last=True\n",
    ")"
   ]
  },
  {
   "cell_type": "code",
   "execution_count": 13,
   "id": "1bc0c996-837a-4801-9ee8-914d67596752",
   "metadata": {},
   "outputs": [
    {
     "data": {
      "text/plain": [
       "<torch.utils.data.sampler.SequentialSampler at 0x2bab76f4a050>"
      ]
     },
     "execution_count": 13,
     "metadata": {},
     "output_type": "execute_result"
    }
   ],
   "source": [
    "# this uses the sequential sampler when shuffle=False\n",
    "train_loader_match_shuffle.batch_sampler.sampler"
   ]
  },
  {
   "cell_type": "code",
   "execution_count": 15,
   "id": "c3ca71a0-44d5-4484-b1a2-9ea1b9f47eb2",
   "metadata": {},
   "outputs": [],
   "source": [
    "# verify no generator set\n",
    "train_loader_match_shuffle.generator"
   ]
  },
  {
   "cell_type": "code",
   "execution_count": 38,
   "id": "98bf6724-61eb-4143-abb7-15dd5abeb9f5",
   "metadata": {},
   "outputs": [
    {
     "name": "stdout",
     "output_type": "stream",
     "text": [
      "tensor([0.5087, 0.5062, 0.5044, 0.5024, 0.5035, 0.5023, 0.4870, 0.4904, 0.4902,\n",
      "        0.4775, 0.4806, 0.4724, 0.4644, 0.4619, 0.4739, 0.4668, 0.4669, 0.4665,\n",
      "        0.4576, 0.4488, 0.4601, 0.4617, 0.4515, 0.4451, 0.4442, 0.4464, 0.4502,\n",
      "        0.4569, 0.4605, 0.4643, 0.4728, 0.4601, 0.4634, 0.4752, 0.4769, 0.4704,\n",
      "        0.4577, 0.4715, 0.4741, 0.4784, 0.4840, 0.4880, 0.4874, 0.4955, 0.5069,\n",
      "        0.5001, 0.4956, 0.5026], dtype=torch.float64) tensor([ 0,  1,  2,  3,  4,  5,  6,  7,  8,  9, 10, 11, 12, 13, 14, 15, 16, 17,\n",
      "        18, 19, 20, 21, 22, 23, 24, 25, 26, 27, 28, 29, 30, 31, 32, 33, 34, 35,\n",
      "        36, 37, 38, 39, 40, 41, 42, 43, 44, 45, 46, 47])\n"
     ]
    },
    {
     "data": {
      "image/png": "[encoded data removed]",
      "text/plain": [
       "<Figure size 640x480 with 1 Axes>"
      ]
     },
     "metadata": {},
     "output_type": "display_data"
    }
   ],
   "source": [
    "for data in train_loader_match_shuffle:\n",
    "    #print(data[\"input\"].squeeze(dim=2).shape) # dims are batch size x input channel x lat x lon (or something similar)\n",
    "    x = data[\"input\"].squeeze(dim=2)[:,3,0,0] # all the batches for the last input channel and the first spatial index\n",
    "    i = data[\"index\"]\n",
    "    print(x, i) \n",
    "    plt.hist(x)"
   ]
  },
  {
   "cell_type": "markdown",
   "id": "bfcd32ec-bab4-47f2-a9d1-626cb2af089b",
   "metadata": {},
   "source": [
    "### plot and order are the same, with the indices sampled in order"
   ]
  },
  {
   "cell_type": "code",
   "execution_count": 41,
   "id": "5842242f-d1cc-431e-8d0c-277d598f5830",
   "metadata": {},
   "outputs": [
    {
     "name": "stdout",
     "output_type": "stream",
     "text": [
      "tensor([0.5087, 0.5062, 0.5044, 0.5024, 0.5035, 0.5023, 0.4870, 0.4904, 0.4902,\n",
      "        0.4775, 0.4806, 0.4724, 0.4644, 0.4619, 0.4739, 0.4668, 0.4669, 0.4665,\n",
      "        0.4576, 0.4488, 0.4601, 0.4617, 0.4515, 0.4451, 0.4442, 0.4464, 0.4502,\n",
      "        0.4569, 0.4605, 0.4643, 0.4728, 0.4601, 0.4634, 0.4752, 0.4769, 0.4704,\n",
      "        0.4577, 0.4715, 0.4741, 0.4784, 0.4840, 0.4880, 0.4874, 0.4955, 0.5069,\n",
      "        0.5001, 0.4956, 0.5026], dtype=torch.float64) tensor([ 0,  1,  2,  3,  4,  5,  6,  7,  8,  9, 10, 11, 12, 13, 14, 15, 16, 17,\n",
      "        18, 19, 20, 21, 22, 23, 24, 25, 26, 27, 28, 29, 30, 31, 32, 33, 34, 35,\n",
      "        36, 37, 38, 39, 40, 41, 42, 43, 44, 45, 46, 47])\n"
     ]
    },
    {
     "data": {
      "image/png": "[encoded data removed]",
      "text/plain": [
       "<Figure size 640x480 with 1 Axes>"
      ]
     },
     "metadata": {},
     "output_type": "display_data"
    }
   ],
   "source": [
    "for data in train_loader_match_shuffle:\n",
    "    #print(data[\"input\"].squeeze(dim=2).shape) # dims are batch size x input channel x lat x lon (or something similar)\n",
    "    x = data[\"input\"].squeeze(dim=2)[:,3,0,0] # all the batches for the last input channel and the first spatial index\n",
    "    i = data[\"index\"]\n",
    "    print(x, i) \n",
    "    plt.hist(x)"
   ]
  },
  {
   "cell_type": "markdown",
   "id": "34790c38-13ea-4290-b60e-58f76279a669",
   "metadata": {
    "jp-MarkdownHeadingCollapsed": true,
    "tags": []
   },
   "source": [
    "## Next test: setting the seeds"
   ]
  },
  {
   "cell_type": "code",
   "execution_count": 47,
   "id": "4b018520-628b-4738-aba6-0405b5071bc0",
   "metadata": {},
   "outputs": [],
   "source": [
    "#For reference from s2sml code...\n",
    "\n",
    "#seed = 150\n",
    "#random.seed(seed)\n",
    "#os.environ[\"PYTHONHASHSEED\"] = str(seed)\n",
    "#np.random.seed(seed)\n",
    "#torch.manual_seed(seed)\n",
    "#if torch.cuda.is_available():\n",
    "#    torch.cuda.manual_seed(seed)\n",
    "#    torch.backends.cudnn.benchmark = True\n",
    "#    torch.backends.cudnn.deterministic = True"
   ]
  },
  {
   "cell_type": "code",
   "execution_count": 16,
   "id": "a92f7829-0c4d-473f-bfaa-2bd4ae66bb1b",
   "metadata": {},
   "outputs": [
    {
     "data": {
      "text/plain": [
       "False"
      ]
     },
     "execution_count": 16,
     "metadata": {},
     "output_type": "execute_result"
    }
   ],
   "source": [
    "# check cuda\n",
    "torch.cuda.is_available()"
   ]
  },
  {
   "cell_type": "code",
   "execution_count": 17,
   "id": "2b3cbd40-4554-44f8-9154-c069f90e3520",
   "metadata": {},
   "outputs": [
    {
     "data": {
      "text/plain": [
       "10671266770327172531"
      ]
     },
     "execution_count": 17,
     "metadata": {},
     "output_type": "execute_result"
    }
   ],
   "source": [
    "# check initial seed\n",
    "torch.initial_seed()"
   ]
  },
  {
   "cell_type": "markdown",
   "id": "caa0f699-0029-4cc9-a016-2ee67d425381",
   "metadata": {},
   "source": [
    "### Set all the seeds from `seed_everything` here in this function\n",
    "See: https://pytorch.org/docs/stable/notes/randomness.html#dataloader"
   ]
  },
  {
   "cell_type": "code",
   "execution_count": 46,
   "id": "b20dbc5b-c79b-4342-8400-cfc306c5b22f",
   "metadata": {},
   "outputs": [],
   "source": [
    "def seed_worker(worker_id):\n",
    "    worker_seed = torch.initial_seed() % 2**32\n",
    "    numpy.random.seed(worker_seed)\n",
    "    random.seed(worker_seed)\n",
    "    os.environ[\"PYTHONHASHSEED\"] = str(worker_seed)\n",
    "    torch.manual_seed(worker_seed)"
   ]
  },
  {
   "cell_type": "code",
   "execution_count": 47,
   "id": "b336583e-ab79-43fd-9038-422fb93212a8",
   "metadata": {},
   "outputs": [
    {
     "data": {
      "text/plain": [
       "<torch._C.Generator at 0x2bab77f07530>"
      ]
     },
     "execution_count": 47,
     "metadata": {},
     "output_type": "execute_result"
    }
   ],
   "source": [
    "g = torch.Generator()\n",
    "g.manual_seed(0)"
   ]
  },
  {
   "cell_type": "markdown",
   "id": "077309f1-1af6-440a-b368-183e4a79efed",
   "metadata": {},
   "source": [
    "### New DataLoader instance with the seeds set"
   ]
  },
  {
   "cell_type": "markdown",
   "id": "6f45fbe7-c2a0-4327-bcaf-f7457049e561",
   "metadata": {},
   "source": [
    "#### Note: `worker_init_fn` will only be used if `num_workers` is nonzero..."
   ]
  },
  {
   "cell_type": "code",
   "execution_count": 48,
   "id": "4d635a41-f5ed-49b9-8f01-ceee47aa41fa",
   "metadata": {},
   "outputs": [],
   "source": [
    "train_loader_rand = DataLoader(\n",
    "    train, batch_size=train_batch_size, shuffle=True, \n",
    "    drop_last=True, worker_init_fn=seed_worker, generator=g\n",
    ")"
   ]
  },
  {
   "cell_type": "code",
   "execution_count": 49,
   "id": "b9f111a4-9b32-4489-bc05-5077122d527d",
   "metadata": {
    "tags": []
   },
   "outputs": [
    {
     "data": {
      "text/plain": [
       "<torch.utils.data.sampler.RandomSampler at 0x2bab7c10b2e0>"
      ]
     },
     "execution_count": 49,
     "metadata": {},
     "output_type": "execute_result"
    }
   ],
   "source": [
    "# still using random sampler\n",
    "train_loader_rand.batch_sampler.sampler"
   ]
  },
  {
   "cell_type": "code",
   "execution_count": 50,
   "id": "e5b13677-7183-41fc-aab4-f04daf27b844",
   "metadata": {},
   "outputs": [
    {
     "data": {
      "text/plain": [
       "<s2sml.torch_s2s_dataset.S2SDataset at 0x2bab6a1d2e30>"
      ]
     },
     "execution_count": 50,
     "metadata": {},
     "output_type": "execute_result"
    }
   ],
   "source": [
    "# data source is S2SDataset\n",
    "train_loader_rand.batch_sampler.sampler.data_source"
   ]
  },
  {
   "cell_type": "code",
   "execution_count": 57,
   "id": "f0486816-0891-4796-84e7-05806f95b823",
   "metadata": {},
   "outputs": [
    {
     "data": {
      "text/plain": [
       "<torch._C.Generator at 0x2bab77f07530>"
      ]
     },
     "execution_count": 57,
     "metadata": {},
     "output_type": "execute_result"
    }
   ],
   "source": [
    "# generator for the random sampler\n",
    "train_loader_rand.batch_sampler.sampler.generator"
   ]
  },
  {
   "cell_type": "code",
   "execution_count": 52,
   "id": "99edd812-528e-4afa-bc46-410e113c2f97",
   "metadata": {},
   "outputs": [
    {
     "data": {
      "text/plain": [
       "0"
      ]
     },
     "execution_count": 52,
     "metadata": {},
     "output_type": "execute_result"
    }
   ],
   "source": [
    "# initial seed is 0\n",
    "train_loader_rand.batch_sampler.sampler.generator.initial_seed()"
   ]
  },
  {
   "cell_type": "code",
   "execution_count": 53,
   "id": "dd8e9b0b-4b2a-44a6-9141-0d4b8b0e5692",
   "metadata": {
    "tags": []
   },
   "outputs": [
    {
     "data": {
      "text/plain": [
       "<torch._C.Generator at 0x2bab77f07530>"
      ]
     },
     "execution_count": 53,
     "metadata": {},
     "output_type": "execute_result"
    }
   ],
   "source": [
    "# generator for the DataLoader - same as above?\n",
    "train_loader_rand.generator"
   ]
  },
  {
   "cell_type": "code",
   "execution_count": 54,
   "id": "fcc33001-b438-4a67-9272-84139e9bf5cc",
   "metadata": {},
   "outputs": [
    {
     "data": {
      "text/plain": [
       "0"
      ]
     },
     "execution_count": 54,
     "metadata": {},
     "output_type": "execute_result"
    }
   ],
   "source": [
    "# initial seed is the same (set above)\n",
    "train_loader_rand.generator.initial_seed()"
   ]
  },
  {
   "cell_type": "code",
   "execution_count": 55,
   "id": "09f29a0a-1930-4862-81bd-b86e60b520c9",
   "metadata": {
    "tags": []
   },
   "outputs": [
    {
     "data": {
      "text/plain": [
       "<function __main__.seed_worker(worker_id)>"
      ]
     },
     "execution_count": 55,
     "metadata": {},
     "output_type": "execute_result"
    }
   ],
   "source": [
    "# and worker_init_fn\n",
    "train_loader_rand.worker_init_fn"
   ]
  },
  {
   "cell_type": "markdown",
   "id": "28f3e270-a36e-4b30-a79c-2d98cedccff6",
   "metadata": {},
   "source": [
    "### Print out values in a loop that grabs the batches (seeds set)"
   ]
  },
  {
   "cell_type": "code",
   "execution_count": 52,
   "id": "971c48fd-55e7-46a4-8251-b8a3fced0d3e",
   "metadata": {},
   "outputs": [
    {
     "name": "stdout",
     "output_type": "stream",
     "text": [
      "torch.Size([32, 4, 32, 32])\n",
      "tensor([0.5023, 0.5035, 0.4668, 0.4569, 0.4488, 0.4704, 0.4601, 0.4902, 0.4643,\n",
      "        0.4601, 0.4634, 0.5087, 0.4515, 0.4442, 0.4769, 0.4577, 0.4874, 0.5069,\n",
      "        0.4665, 0.4617, 0.4870, 0.4880, 0.4576, 0.4784, 0.4715, 0.4724, 0.4464,\n",
      "        0.5001, 0.4904, 0.4955, 0.5026, 0.4728], dtype=torch.float64) tensor([ 5,  4, 15, 27, 19, 35, 31,  8, 29, 20, 32,  0, 22, 24, 34, 36, 42, 44,\n",
      "        17, 21,  6, 41, 18, 39, 37, 11, 25, 45,  7, 43, 47, 30])\n"
     ]
    },
    {
     "data": {
      "image/png": "[encoded data removed]",
      "text/plain": [
       "<Figure size 640x480 with 1 Axes>"
      ]
     },
     "metadata": {},
     "output_type": "display_data"
    }
   ],
   "source": [
    "for i,data in enumerate(train_loader_rand):\n",
    "    #print(i)\n",
    "    print(data[\"input\"].squeeze(dim=2).shape) # dims are batch size x input channel x lat x lon (or something similar)\n",
    "    x = data[\"input\"].squeeze(dim=2)[:,3,0,0] # all the batches for the last input channel and the first spatial index\n",
    "    i = data[\"index\"]\n",
    "    print(x, i) \n",
    "    plt.hist(x)"
   ]
  },
  {
   "cell_type": "markdown",
   "id": "f0d16bea-3a99-452f-99d0-dffb002ff1d1",
   "metadata": {},
   "source": [
    "### Note: the first sampled index is the same as the above case (5), and then it differs (not sure if that's meaningful?)"
   ]
  },
  {
   "cell_type": "code",
   "execution_count": 53,
   "id": "bc698a6e-a9ed-4862-ae92-cf5bc5f36f00",
   "metadata": {},
   "outputs": [
    {
     "name": "stdout",
     "output_type": "stream",
     "text": [
      "torch.Size([32, 4, 32, 32])\n",
      "tensor([0.5023, 0.4769, 0.4752, 0.4442, 0.4634, 0.4806, 0.4902, 0.4488, 0.4577,\n",
      "        0.4741, 0.4715, 0.4870, 0.4451, 0.4515, 0.4576, 0.4775, 0.5024, 0.4643,\n",
      "        0.5087, 0.4617, 0.4955, 0.4724, 0.5001, 0.4904, 0.4739, 0.4644, 0.4784,\n",
      "        0.5035, 0.4669, 0.4874, 0.4605, 0.4840], dtype=torch.float64) tensor([ 5, 34, 33, 24, 32, 10,  8, 19, 36, 38, 37,  6, 23, 22, 18,  9,  3, 29,\n",
      "         0, 21, 43, 11, 45,  7, 14, 12, 39,  4, 16, 42, 28, 40])\n"
     ]
    },
    {
     "data": {
      "image/png": "[encoded data removed]",
      "text/plain": [
       "<Figure size 640x480 with 1 Axes>"
      ]
     },
     "metadata": {},
     "output_type": "display_data"
    }
   ],
   "source": [
    "for i,data in enumerate(train_loader_rand):\n",
    "    #print(i)\n",
    "    print(data[\"input\"].squeeze(dim=2).shape) # dims are batch size x input channel x lat x lon (or something similar)\n",
    "    x = data[\"input\"].squeeze(dim=2)[:,3,0,0] # all the batches for the last input channel and the first spatial index\n",
    "    i = data[\"index\"]\n",
    "    print(x, i) \n",
    "    plt.hist(x)"
   ]
  },
  {
   "cell_type": "markdown",
   "id": "567db321-367a-4155-8ede-07871a1a8082",
   "metadata": {},
   "source": [
    "### doesn't hold if you run a third time"
   ]
  },
  {
   "cell_type": "code",
   "execution_count": 54,
   "id": "beaf46b3-396d-4302-819d-90bcfa48d210",
   "metadata": {},
   "outputs": [
    {
     "name": "stdout",
     "output_type": "stream",
     "text": [
      "tensor([0.4902, 0.4840, 0.4769, 0.4464, 0.4728, 0.4880, 0.4601, 0.4784, 0.4955,\n",
      "        0.4605, 0.5062, 0.4665, 0.5023, 0.4569, 0.4442, 0.4617, 0.4704, 0.4904,\n",
      "        0.4806, 0.4644, 0.4874, 0.5035, 0.4601, 0.4956, 0.4577, 0.4752, 0.4741,\n",
      "        0.5069, 0.4775, 0.4634, 0.5087, 0.4669], dtype=torch.float64) tensor([ 8, 40, 34, 25, 30, 41, 31, 39, 43, 28,  1, 17,  5, 27, 24, 21, 35,  7,\n",
      "        10, 12, 42,  4, 20, 46, 36, 33, 38, 44,  9, 32,  0, 16])\n"
     ]
    },
    {
     "data": {
      "image/png": "[encoded data removed]",
      "text/plain": [
       "<Figure size 640x480 with 1 Axes>"
      ]
     },
     "metadata": {},
     "output_type": "display_data"
    }
   ],
   "source": [
    "for i,data in enumerate(train_loader_rand):\n",
    "    #print(i)\n",
    "    #print(data[\"input\"].squeeze(dim=2).shape) # dims are batch size x input channel x lat x lon (or something similar)\n",
    "    x = data[\"input\"].squeeze(dim=2)[:,3,0,0] # all the batches for the last input channel and the first spatial index\n",
    "    i = data[\"index\"]\n",
    "    print(x, i) \n",
    "    plt.hist(x)"
   ]
  },
  {
   "cell_type": "markdown",
   "id": "7eae8b53-24d1-4829-bff2-4ebe71104372",
   "metadata": {},
   "source": [
    "### Try with the modified batch size"
   ]
  },
  {
   "cell_type": "code",
   "execution_count": 55,
   "id": "9aa0fa19-80af-4d99-b7e3-25a9fd2f3960",
   "metadata": {},
   "outputs": [],
   "source": [
    "train_loader_rand_match = DataLoader(\n",
    "    train, batch_size=train_batch_size_v2, shuffle=True, \n",
    "    drop_last=True, worker_init_fn=seed_worker, generator=g\n",
    ")"
   ]
  },
  {
   "cell_type": "code",
   "execution_count": 56,
   "id": "d0cc8b28-f9fa-432b-ac7d-63fc45974eca",
   "metadata": {},
   "outputs": [
    {
     "name": "stdout",
     "output_type": "stream",
     "text": [
      "torch.Size([48, 4, 32, 32])\n",
      "tensor([0.4451, 0.4669, 0.4605, 0.4601, 0.5035, 0.4634, 0.4502, 0.4577, 0.4488,\n",
      "        0.4464, 0.4704, 0.5024, 0.5087, 0.4956, 0.4442, 0.4739, 0.4806, 0.5023,\n",
      "        0.4644, 0.4715, 0.4724, 0.4515, 0.4741, 0.4775, 0.4643, 0.5062, 0.4576,\n",
      "        0.4752, 0.4668, 0.4902, 0.4569, 0.4874, 0.4870, 0.4784, 0.4619, 0.5026,\n",
      "        0.4904, 0.4769, 0.4728, 0.4840, 0.4601, 0.4617, 0.4955, 0.5001, 0.4665,\n",
      "        0.5069, 0.4880, 0.5044], dtype=torch.float64) tensor([23, 16, 28, 31,  4, 32, 26, 36, 19, 25, 35,  3,  0, 46, 24, 14, 10,  5,\n",
      "        12, 37, 11, 22, 38,  9, 29,  1, 18, 33, 15,  8, 27, 42,  6, 39, 13, 47,\n",
      "         7, 34, 30, 40, 20, 21, 43, 45, 17, 44, 41,  2])\n"
     ]
    },
    {
     "data": {
      "image/png": "[encoded data removed]",
      "text/plain": [
       "<Figure size 640x480 with 1 Axes>"
      ]
     },
     "metadata": {},
     "output_type": "display_data"
    }
   ],
   "source": [
    "for i,data in enumerate(train_loader_rand_match):\n",
    "    #print(i)\n",
    "    print(data[\"input\"].squeeze(dim=2).shape) # dims are batch size x input channel x lat x lon (or something similar)\n",
    "    x = data[\"input\"].squeeze(dim=2)[:,3,0,0] # all the batches for the last input channel and the first spatial index\n",
    "    i = data[\"index\"]\n",
    "    print(x, i) \n",
    "    plt.hist(x)"
   ]
  },
  {
   "cell_type": "markdown",
   "id": "c3b1b3d8-d770-4f2e-af0e-e0a686beb3ba",
   "metadata": {},
   "source": [
    "### Histogram is the same (as expected) but the order is still different, and the first index is no longer the same"
   ]
  },
  {
   "cell_type": "code",
   "execution_count": 57,
   "id": "a9c2ffe6-9605-4af5-bd50-a8b896172e73",
   "metadata": {},
   "outputs": [
    {
     "name": "stdout",
     "output_type": "stream",
     "text": [
      "torch.Size([48, 4, 32, 32])\n",
      "tensor([0.5069, 0.4728, 0.4569, 0.4617, 0.5062, 0.4601, 0.4775, 0.4643, 0.4451,\n",
      "        0.4669, 0.4904, 0.4502, 0.4769, 0.4880, 0.4741, 0.4665, 0.4644, 0.4605,\n",
      "        0.4704, 0.4902, 0.4752, 0.4576, 0.4464, 0.4739, 0.4806, 0.5026, 0.4955,\n",
      "        0.4784, 0.4577, 0.4874, 0.5024, 0.4488, 0.4724, 0.4956, 0.4619, 0.4634,\n",
      "        0.4840, 0.5001, 0.4515, 0.4601, 0.4442, 0.4715, 0.4668, 0.5087, 0.5035,\n",
      "        0.5023, 0.5044, 0.4870], dtype=torch.float64) tensor([44, 30, 27, 21,  1, 20,  9, 29, 23, 16,  7, 26, 34, 41, 38, 17, 12, 28,\n",
      "        35,  8, 33, 18, 25, 14, 10, 47, 43, 39, 36, 42,  3, 19, 11, 46, 13, 32,\n",
      "        40, 45, 22, 31, 24, 37, 15,  0,  4,  5,  2,  6])\n"
     ]
    },
    {
     "data": {
      "image/png": "[encoded data removed]",
      "text/plain": [
       "<Figure size 640x480 with 1 Axes>"
      ]
     },
     "metadata": {},
     "output_type": "display_data"
    }
   ],
   "source": [
    "for i,data in enumerate(train_loader_rand_match):\n",
    "    #print(i)\n",
    "    print(data[\"input\"].squeeze(dim=2).shape) # dims are batch size x input channel x lat x lon (or something similar)\n",
    "    x = data[\"input\"].squeeze(dim=2)[:,3,0,0] # all the batches for the last input channel and the first spatial index\n",
    "    i = data[\"index\"]\n",
    "    print(x, i) \n",
    "    plt.hist(x)"
   ]
  },
  {
   "cell_type": "markdown",
   "id": "f910d5f9-6acd-496f-a373-9dff83876609",
   "metadata": {
    "jp-MarkdownHeadingCollapsed": true,
    "tags": []
   },
   "source": [
    "## Next test: sampler parameter\n",
    "Changing the sampler parameter to DataLoader may help with this, but you can't use that when `shuffle=True`\n",
    "\n",
    "https://pytorch.org/docs/stable/data.html#data-loading-order-and-sampler"
   ]
  },
  {
   "cell_type": "code",
   "execution_count": 84,
   "id": "ab033936-44fb-4563-bb4c-56503ce3271c",
   "metadata": {},
   "outputs": [],
   "source": [
    "# set up a random sampler\n",
    "sampler = torch.utils.data.RandomSampler(data_source=train, generator=g)"
   ]
  },
  {
   "cell_type": "markdown",
   "id": "f4cc5984-4da5-4631-991a-40e53a4d11b6",
   "metadata": {},
   "source": [
    "### New dataloader with `shuffle=False` and specified random sampler using the same generator with seeds set"
   ]
  },
  {
   "cell_type": "code",
   "execution_count": 99,
   "id": "8adcd9a0-c04d-4513-958b-d102bb60a46a",
   "metadata": {},
   "outputs": [],
   "source": [
    "train_loader_rand_shuffle = DataLoader(\n",
    "    train, batch_size=train_batch_size, shuffle=False, sampler=sampler,\n",
    "    drop_last=True, worker_init_fn=seed_worker, generator=g\n",
    ")"
   ]
  },
  {
   "cell_type": "markdown",
   "id": "bcd1ce7d-0d59-4d0c-b004-1abe97084fa4",
   "metadata": {},
   "source": [
    "#### Check the sampler properties"
   ]
  },
  {
   "cell_type": "code",
   "execution_count": 100,
   "id": "21f4116d-adb6-42a5-a87e-8b3d33fe05da",
   "metadata": {},
   "outputs": [
    {
     "data": {
      "text/plain": [
       "<torch.utils.data.sampler.RandomSampler at 0x2bab7c40a7d0>"
      ]
     },
     "execution_count": 100,
     "metadata": {},
     "output_type": "execute_result"
    }
   ],
   "source": [
    "train_loader_rand_shuffle.sampler"
   ]
  },
  {
   "cell_type": "code",
   "execution_count": 101,
   "id": "9ac6dad7-c1b7-4640-825f-cecb64733493",
   "metadata": {},
   "outputs": [
    {
     "data": {
      "text/plain": [
       "<s2sml.torch_s2s_dataset.S2SDataset at 0x2bab6a1d2e30>"
      ]
     },
     "execution_count": 101,
     "metadata": {},
     "output_type": "execute_result"
    }
   ],
   "source": [
    "train_loader_rand_shuffle.sampler.data_source"
   ]
  },
  {
   "cell_type": "code",
   "execution_count": 102,
   "id": "c5e8dbda-b109-488a-8d23-f85b867a0a81",
   "metadata": {},
   "outputs": [
    {
     "data": {
      "text/plain": [
       "<torch._C.Generator at 0x2bab77f07530>"
      ]
     },
     "execution_count": 102,
     "metadata": {},
     "output_type": "execute_result"
    }
   ],
   "source": [
    "train_loader_rand_shuffle.sampler.generator"
   ]
  },
  {
   "cell_type": "code",
   "execution_count": 103,
   "id": "8160ac21-144f-448f-8d75-e32d026f385c",
   "metadata": {},
   "outputs": [
    {
     "data": {
      "text/plain": [
       "0"
      ]
     },
     "execution_count": 103,
     "metadata": {},
     "output_type": "execute_result"
    }
   ],
   "source": [
    "train_loader_rand_shuffle.sampler.generator.initial_seed()"
   ]
  },
  {
   "cell_type": "markdown",
   "id": "cd0da5aa-e1d1-4a45-98f1-3f4c51203560",
   "metadata": {},
   "source": [
    "#### Check the batch_sampler properties"
   ]
  },
  {
   "cell_type": "code",
   "execution_count": 104,
   "id": "994a2a83-d981-4ee6-a0ae-499bcd6555b9",
   "metadata": {},
   "outputs": [
    {
     "data": {
      "text/plain": [
       "<torch.utils.data.sampler.RandomSampler at 0x2bab7c40a7d0>"
      ]
     },
     "execution_count": 104,
     "metadata": {},
     "output_type": "execute_result"
    }
   ],
   "source": [
    "train_loader_rand_shuffle.batch_sampler.sampler"
   ]
  },
  {
   "cell_type": "code",
   "execution_count": 105,
   "id": "9d2ede9d-34d2-483e-96d2-9f049f7372b1",
   "metadata": {},
   "outputs": [
    {
     "data": {
      "text/plain": [
       "<s2sml.torch_s2s_dataset.S2SDataset at 0x2bab6a1d2e30>"
      ]
     },
     "execution_count": 105,
     "metadata": {},
     "output_type": "execute_result"
    }
   ],
   "source": [
    "train_loader_rand_shuffle.batch_sampler.sampler.data_source"
   ]
  },
  {
   "cell_type": "code",
   "execution_count": 106,
   "id": "b84975b0-db6d-4e45-9dc7-e0332c3b65b3",
   "metadata": {},
   "outputs": [
    {
     "data": {
      "text/plain": [
       "<torch._C.Generator at 0x2bab77f07530>"
      ]
     },
     "execution_count": 106,
     "metadata": {},
     "output_type": "execute_result"
    }
   ],
   "source": [
    "train_loader_rand_shuffle.batch_sampler.sampler.generator"
   ]
  },
  {
   "cell_type": "code",
   "execution_count": 107,
   "id": "5f3d0ed8-eda9-49bd-9d20-c28d6fa4fce3",
   "metadata": {},
   "outputs": [
    {
     "data": {
      "text/plain": [
       "0"
      ]
     },
     "execution_count": 107,
     "metadata": {},
     "output_type": "execute_result"
    }
   ],
   "source": [
    "train_loader_rand_shuffle.batch_sampler.sampler.generator.initial_seed()"
   ]
  },
  {
   "cell_type": "markdown",
   "id": "4a86234d-8f40-41e3-9656-431286042b02",
   "metadata": {},
   "source": [
    "#### Check the generator"
   ]
  },
  {
   "cell_type": "code",
   "execution_count": 108,
   "id": "66e98ec9-890e-46e9-960b-2c6300da00e8",
   "metadata": {},
   "outputs": [
    {
     "data": {
      "text/plain": [
       "<torch._C.Generator at 0x2bab77f07530>"
      ]
     },
     "execution_count": 108,
     "metadata": {},
     "output_type": "execute_result"
    }
   ],
   "source": [
    "train_loader_rand_shuffle.generator"
   ]
  },
  {
   "cell_type": "code",
   "execution_count": 109,
   "id": "1147828a-d985-4fc0-a58c-c7ae37a3aa59",
   "metadata": {},
   "outputs": [
    {
     "data": {
      "text/plain": [
       "0"
      ]
     },
     "execution_count": 109,
     "metadata": {},
     "output_type": "execute_result"
    }
   ],
   "source": [
    "train_loader_rand_shuffle.generator.initial_seed()"
   ]
  },
  {
   "cell_type": "code",
   "execution_count": 110,
   "id": "fb303fb0-7af6-4d7d-8845-aefda2897aae",
   "metadata": {},
   "outputs": [
    {
     "name": "stdout",
     "output_type": "stream",
     "text": [
      "torch.Size([32, 4, 32, 32])\n",
      "tensor([0.4619, 0.4775, 0.4752, 0.4488, 0.4576, 0.4902, 0.4724, 0.4806, 0.5023,\n",
      "        0.4784, 0.4668, 0.4601, 0.4669, 0.4577, 0.4728, 0.4739, 0.5087, 0.4955,\n",
      "        0.4442, 0.4634, 0.4515, 0.4502, 0.4617, 0.4741, 0.4715, 0.4769, 0.4874,\n",
      "        0.4904, 0.4643, 0.5026, 0.5062, 0.4956], dtype=torch.float64) tensor([13,  9, 33, 19, 18,  8, 11, 10,  5, 39, 15, 20, 16, 36, 30, 14,  0, 43,\n",
      "        24, 32, 22, 26, 21, 38, 37, 34, 42,  7, 29, 47,  1, 46])\n"
     ]
    },
    {
     "data": {
      "image/png": "[encoded data removed]",
      "text/plain": [
       "<Figure size 640x480 with 1 Axes>"
      ]
     },
     "metadata": {},
     "output_type": "display_data"
    }
   ],
   "source": [
    "for i,data in enumerate(train_loader_rand_shuffle):\n",
    "    #print(i)\n",
    "    print(data[\"input\"].squeeze(dim=2).shape) # dims are batch size x input channel x lat x lon (or something similar)\n",
    "    x = data[\"input\"].squeeze(dim=2)[:,3,0,0] # all the batches for the last input channel and the first spatial index\n",
    "    i = data[\"index\"]\n",
    "    print(x, i) \n",
    "    plt.hist(x)"
   ]
  },
  {
   "cell_type": "markdown",
   "id": "a9cc895b-86a9-4d44-bbff-c1309f22a157",
   "metadata": {},
   "source": [
    "### Still getting shuffling of indices here, despite using the same generator in the sampler and dataloader"
   ]
  },
  {
   "cell_type": "code",
   "execution_count": 111,
   "id": "a352d642-8d93-4afe-961e-85b99fe6e01d",
   "metadata": {},
   "outputs": [
    {
     "name": "stdout",
     "output_type": "stream",
     "text": [
      "torch.Size([32, 4, 32, 32])\n",
      "tensor([0.4502, 0.4569, 0.4619, 0.4904, 0.4617, 0.4784, 0.4643, 0.4601, 0.4769,\n",
      "        0.5001, 0.5035, 0.4840, 0.4451, 0.4644, 0.4752, 0.4605, 0.4577, 0.4669,\n",
      "        0.5044, 0.4728, 0.4955, 0.4442, 0.4880, 0.4668, 0.4739, 0.4601, 0.4806,\n",
      "        0.5087, 0.4741, 0.5026, 0.4665, 0.5023], dtype=torch.float64) tensor([26, 27, 13,  7, 21, 39, 29, 31, 34, 45,  4, 40, 23, 12, 33, 28, 36, 16,\n",
      "         2, 30, 43, 24, 41, 15, 14, 20, 10,  0, 38, 47, 17,  5])\n"
     ]
    },
    {
     "data": {
      "image/png": "[encoded data removed]",
      "text/plain": [
       "<Figure size 640x480 with 1 Axes>"
      ]
     },
     "metadata": {},
     "output_type": "display_data"
    }
   ],
   "source": [
    "for i,data in enumerate(train_loader_rand_shuffle):\n",
    "    #print(i)\n",
    "    print(data[\"input\"].squeeze(dim=2).shape) # dims are batch size x input channel x lat x lon (or something similar)\n",
    "    x = data[\"input\"].squeeze(dim=2)[:,3,0,0] # all the batches for the last input channel and the first spatial index\n",
    "    i = data[\"index\"]\n",
    "    print(x, i) \n",
    "    plt.hist(x)"
   ]
  },
  {
   "cell_type": "markdown",
   "id": "de59fc44-f6b1-4f0b-aa78-3334091df6b1",
   "metadata": {},
   "source": [
    "## Next test: sampler reproducibility"
   ]
  },
  {
   "cell_type": "code",
   "execution_count": 27,
   "id": "c09c9bb0-60be-40e3-ad7a-1c7751f3a1ea",
   "metadata": {},
   "outputs": [
    {
     "data": {
      "text/plain": [
       "<torch._C.Generator at 0x2b4508c93e50>"
      ]
     },
     "execution_count": 27,
     "metadata": {},
     "output_type": "execute_result"
    }
   ],
   "source": [
    "# set up a generator with a specified seed\n",
    "g = torch.Generator()\n",
    "g.manual_seed(10)"
   ]
  },
  {
   "cell_type": "code",
   "execution_count": 28,
   "id": "9c2f7b11-190b-48d2-b68d-1e35f83dfb97",
   "metadata": {},
   "outputs": [
    {
     "data": {
      "text/plain": [
       "10"
      ]
     },
     "execution_count": 28,
     "metadata": {},
     "output_type": "execute_result"
    }
   ],
   "source": [
    "g.initial_seed()"
   ]
  },
  {
   "cell_type": "code",
   "execution_count": 29,
   "id": "b9a09e38-36ac-46ef-bc1d-8ac5194c195b",
   "metadata": {},
   "outputs": [
    {
     "data": {
      "text/plain": [
       "tensor([10,  0,  0,  ...,  0,  0,  0], dtype=torch.uint8)"
      ]
     },
     "execution_count": 29,
     "metadata": {},
     "output_type": "execute_result"
    }
   ],
   "source": [
    "g.get_state()"
   ]
  },
  {
   "cell_type": "code",
   "execution_count": 30,
   "id": "9b5719d9-800b-4c03-852f-d06cb49bda31",
   "metadata": {},
   "outputs": [],
   "source": [
    "# set up a random sampler with specified generator\n",
    "sampler = torch.utils.data.RandomSampler(data_source=train, generator=g)"
   ]
  },
  {
   "cell_type": "code",
   "execution_count": 31,
   "id": "a3abe65c-48b0-4fbf-a68b-d497f6cc428c",
   "metadata": {},
   "outputs": [
    {
     "data": {
      "text/plain": [
       "10"
      ]
     },
     "execution_count": 31,
     "metadata": {},
     "output_type": "execute_result"
    }
   ],
   "source": [
    "sampler.generator.initial_seed()"
   ]
  },
  {
   "cell_type": "code",
   "execution_count": 32,
   "id": "8d6d7d80-f878-4ddb-8fe0-467e5e6cfebd",
   "metadata": {},
   "outputs": [
    {
     "data": {
      "text/plain": [
       "tensor([10,  0,  0,  ...,  0,  0,  0], dtype=torch.uint8)"
      ]
     },
     "execution_count": 32,
     "metadata": {},
     "output_type": "execute_result"
    }
   ],
   "source": [
    "sampler.generator.get_state()"
   ]
  },
  {
   "cell_type": "code",
   "execution_count": 33,
   "id": "4fe59850-982a-45c8-b206-51c53684a48e",
   "metadata": {},
   "outputs": [],
   "source": [
    "# small batch size for testing\n",
    "train_batch_size = 5"
   ]
  },
  {
   "cell_type": "code",
   "execution_count": 34,
   "id": "a5597596-cf91-46c7-a7f8-46f762809865",
   "metadata": {},
   "outputs": [],
   "source": [
    "train_loader_817 = DataLoader(\n",
    "    train, batch_size=train_batch_size, shuffle=False, sampler=sampler,\n",
    "    drop_last=True\n",
    ")"
   ]
  },
  {
   "cell_type": "code",
   "execution_count": 35,
   "id": "9a6b364e-a1bd-4189-a005-18717e5264fa",
   "metadata": {},
   "outputs": [
    {
     "name": "stdout",
     "output_type": "stream",
     "text": [
      "tensor([0.4880, 0.4769, 0.4442, 0.4464, 0.4902], dtype=torch.float64) tensor([41, 34, 24, 25,  8])\n",
      "tensor([0.4576, 0.4665, 0.4668, 0.4775, 0.4617], dtype=torch.float64) tensor([18, 17, 15,  9, 21])\n",
      "tensor([0.4634, 0.5087, 0.4619, 0.4741, 0.4515], dtype=torch.float64) tensor([32,  0, 13, 38, 22])\n",
      "tensor([0.4644, 0.4669, 0.4502, 0.5062, 0.4739], dtype=torch.float64) tensor([12, 16, 26,  1, 14])\n",
      "tensor([0.4577, 0.4874, 0.4806, 0.4605, 0.5026], dtype=torch.float64) tensor([36, 42, 10, 28, 47])\n",
      "tensor([0.4752, 0.4870, 0.4451, 0.5044, 0.4784], dtype=torch.float64) tensor([33,  6, 23,  2, 39])\n",
      "tensor([0.4488, 0.4715, 0.4840, 0.4904, 0.5035], dtype=torch.float64) tensor([19, 37, 40,  7,  4])\n",
      "tensor([0.4724, 0.4955, 0.4601, 0.4569, 0.5069], dtype=torch.float64) tensor([11, 43, 31, 27, 44])\n",
      "tensor([0.5001, 0.4601, 0.4704, 0.4728, 0.5023], dtype=torch.float64) tensor([45, 20, 35, 30,  5])\n"
     ]
    },
    {
     "data": {
      "image/png": "[encoded data removed]",
      "text/plain": [
       "<Figure size 640x480 with 1 Axes>"
      ]
     },
     "metadata": {},
     "output_type": "display_data"
    }
   ],
   "source": [
    "for i,data in enumerate(train_loader_817):\n",
    "    x = data[\"input\"].squeeze(dim=2)[:,3,0,0] # all the batches for the last input channel and the first spatial index\n",
    "    i = data[\"index\"]\n",
    "    print(x, i) \n",
    "    plt.hist(x);"
   ]
  },
  {
   "cell_type": "code",
   "execution_count": 37,
   "id": "732b5320-54e7-4dad-8108-616dcd9db2c8",
   "metadata": {},
   "outputs": [
    {
     "name": "stdout",
     "output_type": "stream",
     "text": [
      "tensor([0.4769, 0.4955, 0.4752, 0.4741, 0.4902], dtype=torch.float64) tensor([34, 43, 33, 38,  8])\n",
      "tensor([0.4577, 0.5026, 0.4442, 0.5024, 0.4784], dtype=torch.float64) tensor([36, 47, 24,  3, 39])\n",
      "tensor([0.4601, 0.4464, 0.4668, 0.5087, 0.4806], dtype=torch.float64) tensor([20, 25, 15,  0, 10])\n",
      "tensor([0.4704, 0.4669, 0.4775, 0.5069, 0.4634], dtype=torch.float64) tensor([35, 16,  9, 44, 32])\n",
      "tensor([0.4724, 0.4840, 0.4502, 0.4569, 0.4874], dtype=torch.float64) tensor([11, 40, 26, 27, 42])\n",
      "tensor([0.4643, 0.4601, 0.5001, 0.5044, 0.4956], dtype=torch.float64) tensor([29, 31, 45,  2, 46])\n",
      "tensor([0.4870, 0.4728, 0.4880, 0.4715, 0.4665], dtype=torch.float64) tensor([ 6, 30, 41, 37, 17])\n",
      "tensor([0.5023, 0.5035, 0.4605, 0.4515, 0.4576], dtype=torch.float64) tensor([ 5,  4, 28, 22, 18])\n",
      "tensor([0.4617, 0.5062, 0.4619, 0.4904, 0.4739], dtype=torch.float64) tensor([21,  1, 13,  7, 14])\n"
     ]
    },
    {
     "data": {
      "image/png": "[encoded data removed]",
      "text/plain": [
       "<Figure size 640x480 with 1 Axes>"
      ]
     },
     "metadata": {},
     "output_type": "display_data"
    }
   ],
   "source": [
    "for i,data in enumerate(train_loader_817):\n",
    "    x = data[\"input\"].squeeze(dim=2)[:,3,0,0] # all the batches for the last input channel and the first spatial index\n",
    "    i = data[\"index\"]\n",
    "    print(x, i) \n",
    "    plt.hist(x)"
   ]
  },
  {
   "cell_type": "markdown",
   "id": "1a66a46f-2973-40d9-ac38-52243222a7ea",
   "metadata": {},
   "source": [
    "### Important: reset the generator/sampler with manual seed for reproducibility"
   ]
  },
  {
   "cell_type": "code",
   "execution_count": 38,
   "id": "30b1117a-5cfb-4906-afe6-38cf2af904d9",
   "metadata": {},
   "outputs": [],
   "source": [
    "g = torch.Generator()\n",
    "g.manual_seed(10)\n",
    "sampler = torch.utils.data.RandomSampler(data_source=train, generator=g)"
   ]
  },
  {
   "cell_type": "code",
   "execution_count": 39,
   "id": "8ab26346-20cc-4d99-b35d-b080bade5d94",
   "metadata": {},
   "outputs": [
    {
     "data": {
      "text/plain": [
       "10"
      ]
     },
     "execution_count": 39,
     "metadata": {},
     "output_type": "execute_result"
    }
   ],
   "source": [
    "g.initial_seed()"
   ]
  },
  {
   "cell_type": "code",
   "execution_count": 40,
   "id": "2379e9a8-22e8-41cd-9624-92f652c1d000",
   "metadata": {},
   "outputs": [
    {
     "data": {
      "text/plain": [
       "tensor([10,  0,  0,  ...,  0,  0,  0], dtype=torch.uint8)"
      ]
     },
     "execution_count": 40,
     "metadata": {},
     "output_type": "execute_result"
    }
   ],
   "source": [
    "g.get_state()"
   ]
  },
  {
   "cell_type": "code",
   "execution_count": 41,
   "id": "ee4ebcc1-709a-47ce-975f-d35c390c73af",
   "metadata": {},
   "outputs": [
    {
     "data": {
      "text/plain": [
       "tensor([10,  0,  0,  ...,  0,  0,  0], dtype=torch.uint8)"
      ]
     },
     "execution_count": 41,
     "metadata": {},
     "output_type": "execute_result"
    }
   ],
   "source": [
    "sampler.generator.get_state()"
   ]
  },
  {
   "cell_type": "markdown",
   "id": "2d32f61b-3b6b-439e-b283-97775849ec7a",
   "metadata": {},
   "source": [
    "### Reproduce the same histogram order with an identical dataloader instance"
   ]
  },
  {
   "cell_type": "code",
   "execution_count": 42,
   "id": "f57599ca-7659-41c4-98f1-7caf12a5e981",
   "metadata": {},
   "outputs": [],
   "source": [
    "train_loader_817_2 = DataLoader(\n",
    "    train, batch_size=train_batch_size, shuffle=False, sampler=sampler,\n",
    "    drop_last=True\n",
    ")"
   ]
  },
  {
   "cell_type": "code",
   "execution_count": 43,
   "id": "fb895f9d-b5cd-4eff-ba7f-924a41660637",
   "metadata": {},
   "outputs": [
    {
     "name": "stdout",
     "output_type": "stream",
     "text": [
      "tensor([0.4880, 0.4769, 0.4442, 0.4464, 0.4902], dtype=torch.float64) tensor([41, 34, 24, 25,  8])\n",
      "tensor([0.4576, 0.4665, 0.4668, 0.4775, 0.4617], dtype=torch.float64) tensor([18, 17, 15,  9, 21])\n",
      "tensor([0.4634, 0.5087, 0.4619, 0.4741, 0.4515], dtype=torch.float64) tensor([32,  0, 13, 38, 22])\n",
      "tensor([0.4644, 0.4669, 0.4502, 0.5062, 0.4739], dtype=torch.float64) tensor([12, 16, 26,  1, 14])\n",
      "tensor([0.4577, 0.4874, 0.4806, 0.4605, 0.5026], dtype=torch.float64) tensor([36, 42, 10, 28, 47])\n",
      "tensor([0.4752, 0.4870, 0.4451, 0.5044, 0.4784], dtype=torch.float64) tensor([33,  6, 23,  2, 39])\n",
      "tensor([0.4488, 0.4715, 0.4840, 0.4904, 0.5035], dtype=torch.float64) tensor([19, 37, 40,  7,  4])\n",
      "tensor([0.4724, 0.4955, 0.4601, 0.4569, 0.5069], dtype=torch.float64) tensor([11, 43, 31, 27, 44])\n",
      "tensor([0.5001, 0.4601, 0.4704, 0.4728, 0.5023], dtype=torch.float64) tensor([45, 20, 35, 30,  5])\n"
     ]
    },
    {
     "data": {
      "image/png": "[encoded data removed]",
      "text/plain": [
       "<Figure size 640x480 with 1 Axes>"
      ]
     },
     "metadata": {},
     "output_type": "display_data"
    }
   ],
   "source": [
    "for i,data in enumerate(train_loader_817_2):\n",
    "    x = data[\"input\"].squeeze(dim=2)[:,3,0,0] # all the batches for the last input channel and the first spatial index\n",
    "    i = data[\"index\"]\n",
    "    print(x, i) \n",
    "    plt.hist(x)"
   ]
  },
  {
   "cell_type": "code",
   "execution_count": 44,
   "id": "bb6c236d-c8f1-4b07-8ff9-99888d4bf7cb",
   "metadata": {},
   "outputs": [
    {
     "name": "stdout",
     "output_type": "stream",
     "text": [
      "tensor([0.4769, 0.4955, 0.4752, 0.4741, 0.4902], dtype=torch.float64) tensor([34, 43, 33, 38,  8])\n",
      "tensor([0.4577, 0.5026, 0.4442, 0.5024, 0.4784], dtype=torch.float64) tensor([36, 47, 24,  3, 39])\n",
      "tensor([0.4601, 0.4464, 0.4668, 0.5087, 0.4806], dtype=torch.float64) tensor([20, 25, 15,  0, 10])\n",
      "tensor([0.4704, 0.4669, 0.4775, 0.5069, 0.4634], dtype=torch.float64) tensor([35, 16,  9, 44, 32])\n",
      "tensor([0.4724, 0.4840, 0.4502, 0.4569, 0.4874], dtype=torch.float64) tensor([11, 40, 26, 27, 42])\n",
      "tensor([0.4643, 0.4601, 0.5001, 0.5044, 0.4956], dtype=torch.float64) tensor([29, 31, 45,  2, 46])\n",
      "tensor([0.4870, 0.4728, 0.4880, 0.4715, 0.4665], dtype=torch.float64) tensor([ 6, 30, 41, 37, 17])\n",
      "tensor([0.5023, 0.5035, 0.4605, 0.4515, 0.4576], dtype=torch.float64) tensor([ 5,  4, 28, 22, 18])\n",
      "tensor([0.4617, 0.5062, 0.4619, 0.4904, 0.4739], dtype=torch.float64) tensor([21,  1, 13,  7, 14])\n"
     ]
    },
    {
     "data": {
      "image/png": "[encoded data removed]",
      "text/plain": [
       "<Figure size 640x480 with 1 Axes>"
      ]
     },
     "metadata": {},
     "output_type": "display_data"
    }
   ],
   "source": [
    "for i,data in enumerate(train_loader_817_2):\n",
    "    x = data[\"input\"].squeeze(dim=2)[:,3,0,0] # all the batches for the last input channel and the first spatial index\n",
    "    i = data[\"index\"]\n",
    "    print(x, i) \n",
    "    plt.hist(x)"
   ]
  },
  {
   "cell_type": "code",
   "execution_count": 45,
   "id": "a350fac8-5dba-408d-b20f-0ef82729a44b",
   "metadata": {},
   "outputs": [
    {
     "data": {
      "text/plain": [
       "tensor([10,  0,  0,  ...,  0,  0,  0], dtype=torch.uint8)"
      ]
     },
     "execution_count": 45,
     "metadata": {},
     "output_type": "execute_result"
    }
   ],
   "source": [
    "train_loader_817_2.sampler.generator.get_state()"
   ]
  },
  {
   "cell_type": "markdown",
   "id": "defc11a8-48d1-4c8d-80e4-935f277b19da",
   "metadata": {},
   "source": [
    "### Removing sampler makes each iteration reproducible"
   ]
  },
  {
   "cell_type": "code",
   "execution_count": 46,
   "id": "763e411c-895f-4096-8baf-df88d2b81ce5",
   "metadata": {},
   "outputs": [],
   "source": [
    "train_loader_816_nosamp = DataLoader(\n",
    "    train, batch_size=train_batch_size, shuffle=False,\n",
    "    drop_last=True\n",
    ")"
   ]
  },
  {
   "cell_type": "code",
   "execution_count": 47,
   "id": "6381aa7c-c631-4add-b9d3-fd1af726802e",
   "metadata": {},
   "outputs": [
    {
     "data": {
      "image/png": "[encoded data removed]",
      "text/plain": [
       "<Figure size 640x480 with 1 Axes>"
      ]
     },
     "metadata": {},
     "output_type": "display_data"
    }
   ],
   "source": [
    "for i,data in enumerate(train_loader_816_nosamp):\n",
    "    x = data[\"input\"].squeeze(dim=2)[:,3,0,0] # all the batches for the last input channel and the first spatial index\n",
    "    #i = data[\"index\"]\n",
    "    #print(x, i) \n",
    "    plt.hist(x)"
   ]
  },
  {
   "cell_type": "code",
   "execution_count": 48,
   "id": "03acfdd6-e5e6-4e16-85b1-010caf98557e",
   "metadata": {},
   "outputs": [
    {
     "data": {
      "image/png": "[encoded data removed]",
      "text/plain": [
       "<Figure size 640x480 with 1 Axes>"
      ]
     },
     "metadata": {},
     "output_type": "display_data"
    }
   ],
   "source": [
    "for i,data in enumerate(train_loader_816_nosamp):\n",
    "    x = data[\"input\"].squeeze(dim=2)[:,3,0,0] # all the batches for the last input channel and the first spatial index\n",
    "    #i = data[\"index\"]\n",
    "    #print(x, i) \n",
    "    plt.hist(x)"
   ]
  },
  {
   "cell_type": "code",
   "execution_count": null,
   "id": "68bb5235-314a-4092-bb18-e84b89669a47",
   "metadata": {},
   "outputs": [],
   "source": []
  }
 ],
 "metadata": {
  "kernelspec": {
   "display_name": "Python [conda env:s2sml-env]",
   "language": "python",
   "name": "conda-env-s2sml-env-py"
  },
  "language_info": {
   "codemirror_mode": {
    "name": "ipython",
    "version": 3
   },
   "file_extension": ".py",
   "mimetype": "text/x-python",
   "name": "python",
   "nbconvert_exporter": "python",
   "pygments_lexer": "ipython3",
   "version": "3.10.9"
  }
 },
 "nbformat": 4,
 "nbformat_minor": 5
}
