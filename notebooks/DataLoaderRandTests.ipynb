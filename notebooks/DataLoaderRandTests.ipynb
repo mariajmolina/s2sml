{
 "cells": [
  {
   "cell_type": "markdown",
   "id": "41fad0f0-c8fd-434b-8e2e-e2d90fedbc18",
   "metadata": {},
   "source": [
    "# Testing batch loader randomness"
   ]
  },
  {
   "cell_type": "code",
   "execution_count": 1,
   "id": "48e87d6b-9949-40cf-9cf1-ecfa4e495a52",
   "metadata": {},
   "outputs": [],
   "source": [
    "import s2sml.torch_s2s_dataset as torch_s2s_dataset\n",
    "from torch.utils.data import DataLoader\n",
    "import torch"
   ]
  },
  {
   "cell_type": "code",
   "execution_count": 2,
   "id": "0318bfb2-7d97-472c-ab80-0f8c97d5f757",
   "metadata": {},
   "outputs": [],
   "source": [
    "import matplotlib.pyplot as plt\n",
    "import numpy as np\n",
    "import random"
   ]
  },
  {
   "cell_type": "code",
   "execution_count": 3,
   "id": "7120a90a-a714-4e0d-9172-73214c09344d",
   "metadata": {},
   "outputs": [],
   "source": [
    "import os"
   ]
  },
  {
   "cell_type": "markdown",
   "id": "fdac5409-5a99-4552-9a9f-5cc8b2e689c4",
   "metadata": {},
   "source": [
    "## Config settings"
   ]
  },
  {
   "cell_type": "code",
   "execution_count": 4,
   "id": "5dbec367-2c2a-45e6-bac1-a87c28d2b48b",
   "metadata": {},
   "outputs": [],
   "source": [
    "# Data: from KD randtest_719 config settings (region example)\n",
    "homedir = '/glade/derecho/scratch/molina/' #conf[\"data\"][\"homedir\"]\n",
    "\n",
    "var = \"tas2m\" #conf[\"data\"][\"var\"]\n",
    "wks = 3 #conf[\"data\"][\"wks\"]\n",
    "dxdy = 31 #conf[\"data\"][\"dxdy\"]\n",
    "lat0 = -55.0 #conf[\"data\"][\"lat0\"]\n",
    "lon0 = 280.0 #conf[\"data\"][\"lon0\"]\n",
    "norm = \"minmax\" #conf[\"data\"][\"norm\"]\n",
    "norm_pixel = False #conf[\"data\"][\"norm_pixel\"]\n",
    "dual_norm = False #conf[\"data\"][\"dual_norm\"]\n",
    "region = \"fixed\" #conf[\"data\"][\"region\"]\n",
    "\n",
    "feattopo = True #conf[\"data\"][\"feat_topo\"]\n",
    "featcoord = True #conf[\"data\"][\"feat_coord\"]"
   ]
  },
  {
   "cell_type": "markdown",
   "id": "599c54c8-f6cf-4f15-836b-0be23fbfceb3",
   "metadata": {},
   "source": [
    "## Create dataset"
   ]
  },
  {
   "cell_type": "code",
   "execution_count": 5,
   "id": "00397a94-7983-48b9-96a7-e71db5845b76",
   "metadata": {},
   "outputs": [],
   "source": [
    "train = torch_s2s_dataset.S2SDataset(\n",
    "                week=wks,\n",
    "                variable=var,\n",
    "                norm=norm,\n",
    "                norm_pixel=norm_pixel,\n",
    "                dual_norm=dual_norm,\n",
    "                region=region,\n",
    "                minv=None,\n",
    "                maxv=None,\n",
    "                mini=None,\n",
    "                maxi=None,\n",
    "                mnv=None,\n",
    "                stdv=None,\n",
    "                mni=None,\n",
    "                stdi=None,\n",
    "                lon0=lon0,\n",
    "                lat0=lat0,\n",
    "                dxdy=dxdy,\n",
    "                feat_topo=feattopo,\n",
    "                feat_lats=featcoord,\n",
    "                feat_lons=featcoord,\n",
    "                startdt=\"1999-02-01\",\n",
    "                enddt=\"1999-12-31\",\n",
    "                #enddt=\"2000-12-31\",\n",
    "                #enddt=\"2014-12-31\",\n",
    "                homedir=homedir,\n",
    ")"
   ]
  },
  {
   "cell_type": "markdown",
   "id": "3877c664-856c-4686-aa2b-1b9a091f6bcf",
   "metadata": {},
   "source": [
    "### Inspect some properties of `train`"
   ]
  },
  {
   "cell_type": "code",
   "execution_count": 6,
   "id": "82a10f52-b25e-4fb4-be59-278d41fe40e5",
   "metadata": {},
   "outputs": [
    {
     "data": {
      "text/plain": [
       "'/glade/derecho/scratch/molina/cesm_tas2m_week3/'"
      ]
     },
     "execution_count": 6,
     "metadata": {},
     "output_type": "execute_result"
    }
   ],
   "source": [
    "# file directory\n",
    "train.cesm_dir"
   ]
  },
  {
   "cell_type": "code",
   "execution_count": 7,
   "id": "1f6c9efd-3413-45e9-b5e5-63ec9bade90d",
   "metadata": {},
   "outputs": [
    {
     "data": {
      "text/plain": [
       "['/glade/derecho/scratch/molina/cesm_tas2m_week3/cm_tas2m_19990201.nc',\n",
       " '/glade/derecho/scratch/molina/cesm_tas2m_week3/cm_tas2m_19990208.nc',\n",
       " '/glade/derecho/scratch/molina/cesm_tas2m_week3/cm_tas2m_19990215.nc',\n",
       " '/glade/derecho/scratch/molina/cesm_tas2m_week3/cm_tas2m_19990222.nc',\n",
       " '/glade/derecho/scratch/molina/cesm_tas2m_week3/cm_tas2m_19990301.nc',\n",
       " '/glade/derecho/scratch/molina/cesm_tas2m_week3/cm_tas2m_19990308.nc',\n",
       " '/glade/derecho/scratch/molina/cesm_tas2m_week3/cm_tas2m_19990315.nc',\n",
       " '/glade/derecho/scratch/molina/cesm_tas2m_week3/cm_tas2m_19990322.nc',\n",
       " '/glade/derecho/scratch/molina/cesm_tas2m_week3/cm_tas2m_19990329.nc',\n",
       " '/glade/derecho/scratch/molina/cesm_tas2m_week3/cm_tas2m_19990405.nc',\n",
       " '/glade/derecho/scratch/molina/cesm_tas2m_week3/cm_tas2m_19990412.nc',\n",
       " '/glade/derecho/scratch/molina/cesm_tas2m_week3/cm_tas2m_19990419.nc',\n",
       " '/glade/derecho/scratch/molina/cesm_tas2m_week3/cm_tas2m_19990426.nc',\n",
       " '/glade/derecho/scratch/molina/cesm_tas2m_week3/cm_tas2m_19990503.nc',\n",
       " '/glade/derecho/scratch/molina/cesm_tas2m_week3/cm_tas2m_19990510.nc',\n",
       " '/glade/derecho/scratch/molina/cesm_tas2m_week3/cm_tas2m_19990517.nc',\n",
       " '/glade/derecho/scratch/molina/cesm_tas2m_week3/cm_tas2m_19990524.nc',\n",
       " '/glade/derecho/scratch/molina/cesm_tas2m_week3/cm_tas2m_19990531.nc',\n",
       " '/glade/derecho/scratch/molina/cesm_tas2m_week3/cm_tas2m_19990607.nc',\n",
       " '/glade/derecho/scratch/molina/cesm_tas2m_week3/cm_tas2m_19990614.nc',\n",
       " '/glade/derecho/scratch/molina/cesm_tas2m_week3/cm_tas2m_19990621.nc',\n",
       " '/glade/derecho/scratch/molina/cesm_tas2m_week3/cm_tas2m_19990628.nc',\n",
       " '/glade/derecho/scratch/molina/cesm_tas2m_week3/cm_tas2m_19990705.nc',\n",
       " '/glade/derecho/scratch/molina/cesm_tas2m_week3/cm_tas2m_19990712.nc',\n",
       " '/glade/derecho/scratch/molina/cesm_tas2m_week3/cm_tas2m_19990719.nc',\n",
       " '/glade/derecho/scratch/molina/cesm_tas2m_week3/cm_tas2m_19990726.nc',\n",
       " '/glade/derecho/scratch/molina/cesm_tas2m_week3/cm_tas2m_19990802.nc',\n",
       " '/glade/derecho/scratch/molina/cesm_tas2m_week3/cm_tas2m_19990809.nc',\n",
       " '/glade/derecho/scratch/molina/cesm_tas2m_week3/cm_tas2m_19990816.nc',\n",
       " '/glade/derecho/scratch/molina/cesm_tas2m_week3/cm_tas2m_19990823.nc',\n",
       " '/glade/derecho/scratch/molina/cesm_tas2m_week3/cm_tas2m_19990830.nc',\n",
       " '/glade/derecho/scratch/molina/cesm_tas2m_week3/cm_tas2m_19990906.nc',\n",
       " '/glade/derecho/scratch/molina/cesm_tas2m_week3/cm_tas2m_19990913.nc',\n",
       " '/glade/derecho/scratch/molina/cesm_tas2m_week3/cm_tas2m_19990920.nc',\n",
       " '/glade/derecho/scratch/molina/cesm_tas2m_week3/cm_tas2m_19990927.nc',\n",
       " '/glade/derecho/scratch/molina/cesm_tas2m_week3/cm_tas2m_19991004.nc',\n",
       " '/glade/derecho/scratch/molina/cesm_tas2m_week3/cm_tas2m_19991011.nc',\n",
       " '/glade/derecho/scratch/molina/cesm_tas2m_week3/cm_tas2m_19991018.nc',\n",
       " '/glade/derecho/scratch/molina/cesm_tas2m_week3/cm_tas2m_19991025.nc',\n",
       " '/glade/derecho/scratch/molina/cesm_tas2m_week3/cm_tas2m_19991101.nc',\n",
       " '/glade/derecho/scratch/molina/cesm_tas2m_week3/cm_tas2m_19991108.nc',\n",
       " '/glade/derecho/scratch/molina/cesm_tas2m_week3/cm_tas2m_19991115.nc',\n",
       " '/glade/derecho/scratch/molina/cesm_tas2m_week3/cm_tas2m_19991122.nc',\n",
       " '/glade/derecho/scratch/molina/cesm_tas2m_week3/cm_tas2m_19991129.nc',\n",
       " '/glade/derecho/scratch/molina/cesm_tas2m_week3/cm_tas2m_19991206.nc',\n",
       " '/glade/derecho/scratch/molina/cesm_tas2m_week3/cm_tas2m_19991213.nc',\n",
       " '/glade/derecho/scratch/molina/cesm_tas2m_week3/cm_tas2m_19991220.nc',\n",
       " '/glade/derecho/scratch/molina/cesm_tas2m_week3/cm_tas2m_19991227.nc']"
      ]
     },
     "execution_count": 7,
     "metadata": {},
     "output_type": "execute_result"
    }
   ],
   "source": [
    "# list of files\n",
    "train.list_of_cesm"
   ]
  },
  {
   "cell_type": "code",
   "execution_count": 8,
   "id": "5c9233b0-69c4-48f7-9525-3c25fc6a2d0c",
   "metadata": {},
   "outputs": [
    {
     "name": "stdout",
     "output_type": "stream",
     "text": [
      "15 21\n"
     ]
    }
   ],
   "source": [
    "# days of the month for week 3 leadtime\n",
    "print(train.day_init, train.day_end)"
   ]
  },
  {
   "cell_type": "code",
   "execution_count": 135,
   "id": "426a393e-9d94-482f-bc88-367a2d083d5e",
   "metadata": {
    "collapsed": true,
    "jupyter": {
     "outputs_hidden": true,
     "source_hidden": true
    },
    "tags": []
   },
   "outputs": [
    {
     "ename": "AttributeError",
     "evalue": "'S2SDataset' object has no attribute 'img_train'",
     "output_type": "error",
     "traceback": [
      "\u001b[0;31m---------------------------------------------------------------------------\u001b[0m",
      "\u001b[0;31mAttributeError\u001b[0m                            Traceback (most recent call last)",
      "Cell \u001b[0;32mIn[135], line 2\u001b[0m\n\u001b[1;32m      1\u001b[0m \u001b[38;5;66;03m# this only gets put in here after Dataloader step?\u001b[39;00m\n\u001b[0;32m----> 2\u001b[0m \u001b[43mtrain\u001b[49m\u001b[38;5;241;43m.\u001b[39;49m\u001b[43mimg_train\u001b[49m\n",
      "\u001b[0;31mAttributeError\u001b[0m: 'S2SDataset' object has no attribute 'img_train'"
     ]
    }
   ],
   "source": [
    "# this only gets put in here after Dataloader step?\n",
    "train.img_train"
   ]
  },
  {
   "cell_type": "code",
   "execution_count": 97,
   "id": "3bbe6547-50ec-421c-ae7c-8600d4f7f881",
   "metadata": {
    "collapsed": true,
    "jupyter": {
     "outputs_hidden": true,
     "source_hidden": true
    }
   },
   "outputs": [
    {
     "data": {
      "text/plain": [
       "<matplotlib.collections.QuadMesh at 0x7f7b612d58a0>"
      ]
     },
     "execution_count": 97,
     "metadata": {},
     "output_type": "execute_result"
    },
    {
     "data": {
      "image/png": "[encoded data removed]",
      "text/plain": [
       "<Figure size 640x480 with 2 Axes>"
      ]
     },
     "metadata": {},
     "output_type": "display_data"
    }
   ],
   "source": [
    "train.img_train.plot()"
   ]
  },
  {
   "cell_type": "code",
   "execution_count": 98,
   "id": "3b22848a-0dee-4b57-8d0d-ef486b59daac",
   "metadata": {
    "collapsed": true,
    "jupyter": {
     "outputs_hidden": true,
     "source_hidden": true
    },
    "tags": []
   },
   "outputs": [
    {
     "data": {
      "text/plain": [
       "<matplotlib.collections.QuadMesh at 0x7f7b6157c5b0>"
      ]
     },
     "execution_count": 98,
     "metadata": {},
     "output_type": "execute_result"
    },
    {
     "data": {
      "image/png": "[encoded data removed]",
      "text/plain": [
       "<Figure size 640x480 with 2 Axes>"
      ]
     },
     "metadata": {},
     "output_type": "display_data"
    }
   ],
   "source": [
    "# reproducible but why only one index?\n",
    "train.img_train.plot()"
   ]
  },
  {
   "cell_type": "code",
   "execution_count": 94,
   "id": "66a1e5e8-1215-4833-87c4-fcfa592cddf0",
   "metadata": {
    "collapsed": true,
    "jupyter": {
     "outputs_hidden": true,
     "source_hidden": true
    },
    "tags": []
   },
   "outputs": [
    {
     "data": {
      "text/plain": [
       "<matplotlib.collections.QuadMesh at 0x7f7b6132e890>"
      ]
     },
     "execution_count": 94,
     "metadata": {},
     "output_type": "execute_result"
    },
    {
     "data": {
      "image/png": "[encoded data removed]",
      "text/plain": [
       "<Figure size 640x480 with 2 Axes>"
      ]
     },
     "metadata": {},
     "output_type": "display_data"
    }
   ],
   "source": [
    "train.img_label.plot()"
   ]
  },
  {
   "cell_type": "code",
   "execution_count": 9,
   "id": "cbe5d3df-8658-47ed-b1a3-79f6fce43cf0",
   "metadata": {},
   "outputs": [
    {
     "data": {
      "text/plain": [
       "(4, 1, 32, 32)"
      ]
     },
     "execution_count": 9,
     "metadata": {},
     "output_type": "execute_result"
    }
   ],
   "source": [
    "# example of how to index train (it is a list)\n",
    "train[0][\"input\"].shape # dims are input channel x lat x lon (or something similar)"
   ]
  },
  {
   "cell_type": "code",
   "execution_count": 10,
   "id": "6751f774-446c-4f7e-bd37-bda184f36606",
   "metadata": {},
   "outputs": [
    {
     "name": "stdout",
     "output_type": "stream",
     "text": [
      "0.5087181329727173\n",
      "0.5062133073806763\n",
      "0.504371166229248\n",
      "0.5024085640907288\n",
      "0.5035187602043152\n",
      "0.5023218989372253\n",
      "0.4869505763053894\n",
      "0.4903753399848938\n",
      "0.4902275502681732\n",
      "0.4775298535823822\n",
      "0.48058339953422546\n",
      "0.4723659157752991\n",
      "0.46437421441078186\n",
      "0.4619479179382324\n",
      "0.47388046979904175\n",
      "0.46676212549209595\n",
      "0.4668988585472107\n",
      "0.4664851725101471\n",
      "0.4575706422328949\n",
      "0.4487672746181488\n",
      "0.4600772559642792\n",
      "0.46168723702430725\n",
      "0.4514658749103546\n",
      "0.4451068341732025\n",
      "0.44416600465774536\n",
      "0.4464462697505951\n",
      "0.4501613676548004\n",
      "0.4569172263145447\n",
      "0.4605066776275635\n",
      "0.46429917216300964\n",
      "0.47283023595809937\n",
      "0.4600900709629059\n",
      "0.463379830121994\n",
      "0.4751553237438202\n",
      "0.47687700390815735\n",
      "0.470411479473114\n",
      "0.45766374468803406\n",
      "0.47154319286346436\n",
      "0.47409868240356445\n",
      "0.47838282585144043\n",
      "0.48400989174842834\n",
      "0.48804035782814026\n",
      "0.4873875379562378\n",
      "0.4954996705055237\n",
      "0.506888210773468\n",
      "0.5000887513160706\n",
      "0.4955613613128662\n",
      "0.5025650858879089\n"
     ]
    }
   ],
   "source": [
    "# print out the values\n",
    "for i in range(len(train.list_of_cesm)):\n",
    "    print(train[i][\"input\"][3,0,0,0]) # last input channel (tas2m?) and the first spatial index"
   ]
  },
  {
   "cell_type": "code",
   "execution_count": null,
   "id": "1aecadde-30e3-44e8-9c5c-5426148f5682",
   "metadata": {},
   "outputs": [],
   "source": []
  },
  {
   "cell_type": "code",
   "execution_count": null,
   "id": "cbe87617-45d5-464e-bb52-952d08243473",
   "metadata": {},
   "outputs": [],
   "source": []
  },
  {
   "cell_type": "markdown",
   "id": "4f6012b2-c541-45ce-a94b-dfd4522ae00d",
   "metadata": {},
   "source": [
    "## Batch size and dataloader"
   ]
  },
  {
   "cell_type": "code",
   "execution_count": 11,
   "id": "532460fc-dcd0-4669-a4eb-4cb05b497694",
   "metadata": {},
   "outputs": [],
   "source": [
    "train_batch_size = 32 #conf[\"trainer\"][\"train_batch_size\"]"
   ]
  },
  {
   "cell_type": "code",
   "execution_count": 64,
   "id": "64f25f81-215e-44f5-9ce1-2a2399ee27fe",
   "metadata": {},
   "outputs": [],
   "source": [
    "train_loader = DataLoader(\n",
    "                train, batch_size=train_batch_size, shuffle=True, drop_last=True\n",
    ")"
   ]
  },
  {
   "cell_type": "markdown",
   "id": "61ea8a83-8e24-43d3-b4dd-254503da96a7",
   "metadata": {},
   "source": [
    "### Print out values in a loop that grabs the batches (no seeds set)"
   ]
  },
  {
   "cell_type": "code",
   "execution_count": 65,
   "id": "55c2e30f-07c8-42a6-bc52-06e4ef379e85",
   "metadata": {},
   "outputs": [
    {
     "name": "stdout",
     "output_type": "stream",
     "text": [
      "tensor([0.4576, 0.4601, 0.4956, 0.4741, 0.4874, 0.4775, 0.4955, 0.4739, 0.5024,\n",
      "        0.5035, 0.5044, 0.4904, 0.4840, 0.4617, 0.4752, 0.4644, 0.4442, 0.4668,\n",
      "        0.4569, 0.4784, 0.4488, 0.4502, 0.4619, 0.4601, 0.4643, 0.5001, 0.4464,\n",
      "        0.4715, 0.4515, 0.4769, 0.4902, 0.4451], dtype=torch.float64)\n"
     ]
    },
    {
     "data": {
      "image/png": "[encoded data removed]",
      "text/plain": [
       "<Figure size 640x480 with 1 Axes>"
      ]
     },
     "metadata": {},
     "output_type": "display_data"
    }
   ],
   "source": [
    "for data in train_loader:\n",
    "    #print(data[\"input\"].squeeze(dim=2).shape) # dims are batch size x input channel x lat x lon (or something similar)\n",
    "    x = data[\"input\"].squeeze(dim=2)[:,3,0,0] # select all the batches for the last input channel (tas2m?) and the first spatial index\n",
    "    print(x) \n",
    "    plt.hist(x)"
   ]
  },
  {
   "cell_type": "markdown",
   "id": "edc66113-99af-4eaf-acb0-2f3fa12f9184",
   "metadata": {},
   "source": [
    "### Values change each time you run this (notice that the histogram is different)"
   ]
  },
  {
   "cell_type": "code",
   "execution_count": 66,
   "id": "71623d2b-ac19-4cfb-9b08-d08673504027",
   "metadata": {},
   "outputs": [
    {
     "name": "stdout",
     "output_type": "stream",
     "text": [
      "tensor([0.5069, 0.4605, 0.4643, 0.4502, 0.4488, 0.4904, 0.4775, 0.4451, 0.4902,\n",
      "        0.5087, 0.4515, 0.5044, 0.4880, 0.4741, 0.4442, 0.4577, 0.4739, 0.4644,\n",
      "        0.4874, 0.4669, 0.4617, 0.5062, 0.4870, 0.4769, 0.4601, 0.5035, 0.4668,\n",
      "        0.4752, 0.4569, 0.4601, 0.4464, 0.4715], dtype=torch.float64)\n"
     ]
    },
    {
     "data": {
      "image/png": "[encoded data removed]",
      "text/plain": [
       "<Figure size 640x480 with 1 Axes>"
      ]
     },
     "metadata": {},
     "output_type": "display_data"
    }
   ],
   "source": [
    "for data in train_loader:\n",
    "    x = data[\"input\"].squeeze(dim=2)[:,3,0,0]\n",
    "    print(x)\n",
    "    plt.hist(x)"
   ]
  },
  {
   "cell_type": "code",
   "execution_count": null,
   "id": "5ab234d9-2cfa-48f6-a53a-d7419be81da2",
   "metadata": {},
   "outputs": [],
   "source": []
  },
  {
   "cell_type": "code",
   "execution_count": null,
   "id": "584afb6f-190a-4288-aaa2-0b26016c236e",
   "metadata": {},
   "outputs": [],
   "source": []
  },
  {
   "cell_type": "markdown",
   "id": "c11259ec-cdcd-4bf5-8710-c1f463dc4d6a",
   "metadata": {},
   "source": [
    "## Try to match batch size to number of time samples"
   ]
  },
  {
   "cell_type": "code",
   "execution_count": 51,
   "id": "9691184e-cd5b-4529-b6ca-1b93f7cd545b",
   "metadata": {},
   "outputs": [
    {
     "data": {
      "text/plain": [
       "48"
      ]
     },
     "execution_count": 51,
     "metadata": {},
     "output_type": "execute_result"
    }
   ],
   "source": [
    "len(train.list_of_cesm) # 48 time samples"
   ]
  },
  {
   "cell_type": "code",
   "execution_count": 21,
   "id": "a06dfff0-3edc-48ae-b42d-30f55d11a880",
   "metadata": {},
   "outputs": [],
   "source": [
    "train_batch_size_v2 = 48"
   ]
  },
  {
   "cell_type": "markdown",
   "id": "378da567-8ec4-457a-8be5-4a61049c4ab0",
   "metadata": {},
   "source": [
    "### New instance of dataloader with different batch size"
   ]
  },
  {
   "cell_type": "code",
   "execution_count": 53,
   "id": "6fab4d92-7099-4126-a0cc-9f834143e0dc",
   "metadata": {},
   "outputs": [],
   "source": [
    "train_loader_match = DataLoader(\n",
    "    train, batch_size=train_batch_size_v2, shuffle=True, drop_last=True\n",
    ")"
   ]
  },
  {
   "cell_type": "code",
   "execution_count": 26,
   "id": "59bece5f-67ea-4ec6-9d88-fda1606148fa",
   "metadata": {
    "collapsed": true,
    "jupyter": {
     "outputs_hidden": true,
     "source_hidden": true
    }
   },
   "outputs": [
    {
     "data": {
      "text/plain": [
       "<torch.utils.data.sampler.RandomSampler at 0x7f7b4cb75de0>"
      ]
     },
     "execution_count": 26,
     "metadata": {},
     "output_type": "execute_result"
    }
   ],
   "source": [
    "train_loader_match.batch_sampler.sampler"
   ]
  },
  {
   "cell_type": "code",
   "execution_count": 81,
   "id": "45935cff-9db0-4f0e-8642-9bdd2350aa67",
   "metadata": {
    "collapsed": true,
    "jupyter": {
     "outputs_hidden": true,
     "source_hidden": true
    }
   },
   "outputs": [],
   "source": [
    "train_loader_match.generator"
   ]
  },
  {
   "cell_type": "code",
   "execution_count": 82,
   "id": "17ff7f1a-5c58-46df-ac37-79e7eb013b4c",
   "metadata": {
    "collapsed": true,
    "jupyter": {
     "outputs_hidden": true,
     "source_hidden": true
    },
    "tags": []
   },
   "outputs": [],
   "source": [
    "train_loader_match.worker_init_fn"
   ]
  },
  {
   "cell_type": "code",
   "execution_count": 54,
   "id": "baddfcf6-3ced-4abf-a60c-5c787b187428",
   "metadata": {},
   "outputs": [
    {
     "name": "stdout",
     "output_type": "stream",
     "text": [
      "tensor([0.4634, 0.4451, 0.4880, 0.4956, 0.4669, 0.5023, 0.4724, 0.4874, 0.4668,\n",
      "        0.4576, 0.5035, 0.4644, 0.4904, 0.4569, 0.4619, 0.4840, 0.4775, 0.4955,\n",
      "        0.4464, 0.4601, 0.4515, 0.4739, 0.4870, 0.5044, 0.4752, 0.4784, 0.5001,\n",
      "        0.4741, 0.4502, 0.4643, 0.4769, 0.4442, 0.4902, 0.4806, 0.4704, 0.4715,\n",
      "        0.4605, 0.5062, 0.5024, 0.4617, 0.4665, 0.4601, 0.5087, 0.5026, 0.4577,\n",
      "        0.4488, 0.4728, 0.5069], dtype=torch.float64)\n"
     ]
    },
    {
     "data": {
      "image/png": "[encoded data removed]",
      "text/plain": [
       "<Figure size 640x480 with 1 Axes>"
      ]
     },
     "metadata": {},
     "output_type": "display_data"
    }
   ],
   "source": [
    "for data in train_loader_match:\n",
    "    #print(data[\"input\"].squeeze(dim=2).shape) # dims are batch size x input channel x lat x lon (or something similar)\n",
    "    x = data[\"input\"].squeeze(dim=2)[:,3,0,0] # all the batches for the last input channel and the first spatial index\n",
    "    print(x) \n",
    "    plt.hist(x)"
   ]
  },
  {
   "cell_type": "code",
   "execution_count": 55,
   "id": "05315eb8-d95b-4a37-bee1-f6f2af0ed8a5",
   "metadata": {},
   "outputs": [
    {
     "name": "stdout",
     "output_type": "stream",
     "text": [
      "tensor([0.4617, 0.4515, 0.4904, 0.4665, 0.5087, 0.4576, 0.4569, 0.4577, 0.5026,\n",
      "        0.4601, 0.4619, 0.4643, 0.4668, 0.4806, 0.4644, 0.5024, 0.4502, 0.5062,\n",
      "        0.4488, 0.5023, 0.4870, 0.4601, 0.4840, 0.4605, 0.4769, 0.4752, 0.5069,\n",
      "        0.4874, 0.5035, 0.5001, 0.4880, 0.4442, 0.4739, 0.4741, 0.4955, 0.4724,\n",
      "        0.4784, 0.4451, 0.4956, 0.4728, 0.4775, 0.4669, 0.4634, 0.4715, 0.5044,\n",
      "        0.4902, 0.4704, 0.4464], dtype=torch.float64)\n"
     ]
    },
    {
     "data": {
      "image/png": "[encoded data removed]",
      "text/plain": [
       "<Figure size 640x480 with 1 Axes>"
      ]
     },
     "metadata": {},
     "output_type": "display_data"
    }
   ],
   "source": [
    "# plot is the same but the order is different\n",
    "for data in train_loader_match:\n",
    "    #print(data[\"input\"].squeeze(dim=2).shape) # dims are batch size x input channel x lat x lon (or something similar)\n",
    "    x = data[\"input\"].squeeze(dim=2)[:,3,0,0] # all the batches for the last input channel and the first spatial index\n",
    "    print(x) \n",
    "    plt.hist(x)"
   ]
  },
  {
   "cell_type": "markdown",
   "id": "db740de7-5bcb-4fea-81e8-4a1b2ea6a6bf",
   "metadata": {},
   "source": [
    "### Note: histogram plots are the same (as expected since the batch size matches the # time samples) but the order is different!"
   ]
  },
  {
   "cell_type": "markdown",
   "id": "19241f50-fc4a-4e8e-b186-da3c0e6bfd30",
   "metadata": {},
   "source": [
    "### Now try `shuffle=False` with yet another dataloader"
   ]
  },
  {
   "cell_type": "code",
   "execution_count": 56,
   "id": "5fcb3992-e7e1-49f1-ba89-5735e23ecd79",
   "metadata": {},
   "outputs": [],
   "source": [
    "train_loader_match_shuffle = DataLoader(\n",
    "    train, batch_size=train_batch_size_v2, shuffle=False, drop_last=True\n",
    ")"
   ]
  },
  {
   "cell_type": "code",
   "execution_count": 57,
   "id": "98bf6724-61eb-4143-abb7-15dd5abeb9f5",
   "metadata": {},
   "outputs": [
    {
     "name": "stdout",
     "output_type": "stream",
     "text": [
      "tensor([0.5087, 0.5062, 0.5044, 0.5024, 0.5035, 0.5023, 0.4870, 0.4904, 0.4902,\n",
      "        0.4775, 0.4806, 0.4724, 0.4644, 0.4619, 0.4739, 0.4668, 0.4669, 0.4665,\n",
      "        0.4576, 0.4488, 0.4601, 0.4617, 0.4515, 0.4451, 0.4442, 0.4464, 0.4502,\n",
      "        0.4569, 0.4605, 0.4643, 0.4728, 0.4601, 0.4634, 0.4752, 0.4769, 0.4704,\n",
      "        0.4577, 0.4715, 0.4741, 0.4784, 0.4840, 0.4880, 0.4874, 0.4955, 0.5069,\n",
      "        0.5001, 0.4956, 0.5026], dtype=torch.float64)\n"
     ]
    },
    {
     "data": {
      "image/png": "[encoded data removed]",
      "text/plain": [
       "<Figure size 640x480 with 1 Axes>"
      ]
     },
     "metadata": {},
     "output_type": "display_data"
    }
   ],
   "source": [
    "for data in train_loader_match_shuffle:\n",
    "    #print(data[\"input\"].squeeze(dim=2).shape) # dims are batch size x input channel x lat x lon (or something similar)\n",
    "    x = data[\"input\"].squeeze(dim=2)[:,3,0,0] # all the batches for the last input channel and the first spatial index\n",
    "    print(x) \n",
    "    plt.hist(x)"
   ]
  },
  {
   "cell_type": "code",
   "execution_count": 60,
   "id": "5842242f-d1cc-431e-8d0c-277d598f5830",
   "metadata": {},
   "outputs": [
    {
     "name": "stdout",
     "output_type": "stream",
     "text": [
      "tensor([0.5087, 0.5062, 0.5044, 0.5024, 0.5035, 0.5023, 0.4870, 0.4904, 0.4902,\n",
      "        0.4775, 0.4806, 0.4724, 0.4644, 0.4619, 0.4739, 0.4668, 0.4669, 0.4665,\n",
      "        0.4576, 0.4488, 0.4601, 0.4617, 0.4515, 0.4451, 0.4442, 0.4464, 0.4502,\n",
      "        0.4569, 0.4605, 0.4643, 0.4728, 0.4601, 0.4634, 0.4752, 0.4769, 0.4704,\n",
      "        0.4577, 0.4715, 0.4741, 0.4784, 0.4840, 0.4880, 0.4874, 0.4955, 0.5069,\n",
      "        0.5001, 0.4956, 0.5026], dtype=torch.float64)\n"
     ]
    },
    {
     "data": {
      "image/png": "[encoded data removed]",
      "text/plain": [
       "<Figure size 640x480 with 1 Axes>"
      ]
     },
     "metadata": {},
     "output_type": "display_data"
    }
   ],
   "source": [
    "# plot and order are the same\n",
    "for data in train_loader_match_shuffle:\n",
    "    #print(data[\"input\"].squeeze(dim=2).shape) # dims are batch size x input channel x lat x lon (or something similar)\n",
    "    x = data[\"input\"].squeeze(dim=2)[:,3,0,0] # all the batches for the last input channel and the first spatial index\n",
    "    print(x) \n",
    "    plt.hist(x)"
   ]
  },
  {
   "cell_type": "markdown",
   "id": "7b4a439d-7288-493b-a01f-42df9deab7a4",
   "metadata": {},
   "source": [
    "### Order is now the same (without setting any seeds)"
   ]
  },
  {
   "cell_type": "code",
   "execution_count": null,
   "id": "9ddc80f1-35b4-47ef-837a-6e3630df9d1e",
   "metadata": {},
   "outputs": [],
   "source": []
  },
  {
   "cell_type": "code",
   "execution_count": null,
   "id": "decdbd88-0b70-4d70-86a0-979731390e8a",
   "metadata": {},
   "outputs": [],
   "source": []
  },
  {
   "cell_type": "code",
   "execution_count": null,
   "id": "477f2370-3a12-4dcc-92f8-def8e4aad66d",
   "metadata": {},
   "outputs": [],
   "source": []
  },
  {
   "cell_type": "markdown",
   "id": "34790c38-13ea-4290-b60e-58f76279a669",
   "metadata": {},
   "source": [
    "## Now try setting the seeds"
   ]
  },
  {
   "cell_type": "code",
   "execution_count": 47,
   "id": "4b018520-628b-4738-aba6-0405b5071bc0",
   "metadata": {},
   "outputs": [],
   "source": [
    "#For reference from s2sml code...\n",
    "\n",
    "#seed = 150\n",
    "#random.seed(seed)\n",
    "#os.environ[\"PYTHONHASHSEED\"] = str(seed)\n",
    "#np.random.seed(seed)\n",
    "#torch.manual_seed(seed)\n",
    "#if torch.cuda.is_available():\n",
    "#    torch.cuda.manual_seed(seed)\n",
    "#    torch.backends.cudnn.benchmark = True\n",
    "#    torch.backends.cudnn.deterministic = True"
   ]
  },
  {
   "cell_type": "code",
   "execution_count": 67,
   "id": "a92f7829-0c4d-473f-bfaa-2bd4ae66bb1b",
   "metadata": {},
   "outputs": [
    {
     "data": {
      "text/plain": [
       "False"
      ]
     },
     "execution_count": 67,
     "metadata": {},
     "output_type": "execute_result"
    }
   ],
   "source": [
    "torch.cuda.is_available()"
   ]
  },
  {
   "cell_type": "code",
   "execution_count": 12,
   "id": "2b3cbd40-4554-44f8-9154-c069f90e3520",
   "metadata": {},
   "outputs": [
    {
     "data": {
      "text/plain": [
       "7161087602281443734"
      ]
     },
     "execution_count": 12,
     "metadata": {},
     "output_type": "execute_result"
    }
   ],
   "source": [
    "torch.initial_seed()"
   ]
  },
  {
   "cell_type": "markdown",
   "id": "caa0f699-0029-4cc9-a016-2ee67d425381",
   "metadata": {},
   "source": [
    "### Set all the seeds from `seed_everything` here in this function\n",
    "See: https://pytorch.org/docs/stable/notes/randomness.html#dataloader"
   ]
  },
  {
   "cell_type": "code",
   "execution_count": 13,
   "id": "b20dbc5b-c79b-4342-8400-cfc306c5b22f",
   "metadata": {},
   "outputs": [],
   "source": [
    "def seed_worker(worker_id):\n",
    "    worker_seed = torch.initial_seed() % 2**32\n",
    "    numpy.random.seed(worker_seed)\n",
    "    random.seed(worker_seed)\n",
    "    os.environ[\"PYTHONHASHSEED\"] = str(worker_seed)\n",
    "    torch.manual_seed(worker_seed)"
   ]
  },
  {
   "cell_type": "code",
   "execution_count": 14,
   "id": "b336583e-ab79-43fd-9038-422fb93212a8",
   "metadata": {},
   "outputs": [
    {
     "data": {
      "text/plain": [
       "<torch._C.Generator at 0x7f0f5c9d91f0>"
      ]
     },
     "execution_count": 14,
     "metadata": {},
     "output_type": "execute_result"
    }
   ],
   "source": [
    "g = torch.Generator()\n",
    "g.manual_seed(0)"
   ]
  },
  {
   "cell_type": "markdown",
   "id": "077309f1-1af6-440a-b368-183e4a79efed",
   "metadata": {},
   "source": [
    "### New DataLoader instance with the seeds set"
   ]
  },
  {
   "cell_type": "code",
   "execution_count": 15,
   "id": "4d635a41-f5ed-49b9-8f01-ceee47aa41fa",
   "metadata": {},
   "outputs": [],
   "source": [
    "train_loader_rand = DataLoader(\n",
    "    train, batch_size=train_batch_size, shuffle=True, \n",
    "    drop_last=True, worker_init_fn=seed_worker, generator=g\n",
    ")"
   ]
  },
  {
   "cell_type": "code",
   "execution_count": 25,
   "id": "b9f111a4-9b32-4489-bc05-5077122d527d",
   "metadata": {
    "tags": []
   },
   "outputs": [
    {
     "data": {
      "text/plain": [
       "<torch.utils.data.sampler.RandomSampler at 0x7f0f49b7d450>"
      ]
     },
     "execution_count": 25,
     "metadata": {},
     "output_type": "execute_result"
    }
   ],
   "source": [
    "train_loader_rand.batch_sampler.sampler"
   ]
  },
  {
   "cell_type": "code",
   "execution_count": 124,
   "id": "dd8e9b0b-4b2a-44a6-9141-0d4b8b0e5692",
   "metadata": {
    "collapsed": true,
    "jupyter": {
     "outputs_hidden": true,
     "source_hidden": true
    },
    "tags": []
   },
   "outputs": [
    {
     "data": {
      "text/plain": [
       "<torch._C.Generator at 0x7f7b78742b30>"
      ]
     },
     "execution_count": 124,
     "metadata": {},
     "output_type": "execute_result"
    }
   ],
   "source": [
    "train_loader_rand.generator"
   ]
  },
  {
   "cell_type": "code",
   "execution_count": 125,
   "id": "09f29a0a-1930-4862-81bd-b86e60b520c9",
   "metadata": {
    "collapsed": true,
    "jupyter": {
     "outputs_hidden": true,
     "source_hidden": true
    },
    "tags": []
   },
   "outputs": [
    {
     "data": {
      "text/plain": [
       "<function __main__.seed_worker(worker_id)>"
      ]
     },
     "execution_count": 125,
     "metadata": {},
     "output_type": "execute_result"
    }
   ],
   "source": [
    "train_loader_rand.worker_init_fn"
   ]
  },
  {
   "cell_type": "markdown",
   "id": "28f3e270-a36e-4b30-a79c-2d98cedccff6",
   "metadata": {},
   "source": [
    "### Print out values in a loop that grabs the batches (seeds set)"
   ]
  },
  {
   "cell_type": "code",
   "execution_count": 16,
   "id": "971c48fd-55e7-46a4-8251-b8a3fced0d3e",
   "metadata": {},
   "outputs": [
    {
     "name": "stderr",
     "output_type": "stream",
     "text": [
      "/glade/work/kdagon/conda-envs/s2sml-env/lib/python3.10/site-packages/torch/utils/data/_utils/collate.py:171: UserWarning: The given NumPy array is not writable, and PyTorch does not support non-writable tensors. This means writing to this tensor will result in undefined behavior. You may want to copy the array to protect its data or make it writable before converting it to a tensor. This type of warning will be suppressed for the rest of this program. (Triggered internally at /opt/conda/conda-bld/pytorch_1678411187366/work/torch/csrc/utils/tensor_numpy.cpp:206.)\n",
      "  return collate([torch.as_tensor(b) for b in batch], collate_fn_map=collate_fn_map)\n"
     ]
    },
    {
     "name": "stdout",
     "output_type": "stream",
     "text": [
      "torch.Size([32, 4, 32, 32])\n",
      "tensor([0.5023, 0.5035, 0.4668, 0.4569, 0.4488, 0.4704, 0.4601, 0.4902, 0.4643,\n",
      "        0.4601, 0.4634, 0.5087, 0.4515, 0.4442, 0.4769, 0.4577, 0.4874, 0.5069,\n",
      "        0.4665, 0.4617, 0.4870, 0.4880, 0.4576, 0.4784, 0.4715, 0.4724, 0.4464,\n",
      "        0.5001, 0.4904, 0.4955, 0.5026, 0.4728], dtype=torch.float64)\n"
     ]
    },
    {
     "data": {
      "image/png": "[encoded data removed]",
      "text/plain": [
       "<Figure size 640x480 with 1 Axes>"
      ]
     },
     "metadata": {},
     "output_type": "display_data"
    }
   ],
   "source": [
    "for i,data in enumerate(train_loader_rand):\n",
    "    #print(i)\n",
    "    print(data[\"input\"].squeeze(dim=2).shape) # dims are batch size x input channel x lat x lon (or something similar)\n",
    "    x = data[\"input\"].squeeze(dim=2)[:,3,0,0] # all the batches for the last input channel and the first spatial index\n",
    "    print(x) \n",
    "    plt.hist(x)"
   ]
  },
  {
   "cell_type": "code",
   "execution_count": 17,
   "id": "bc698a6e-a9ed-4862-ae92-cf5bc5f36f00",
   "metadata": {},
   "outputs": [
    {
     "name": "stdout",
     "output_type": "stream",
     "text": [
      "tensor([0.5023, 0.4769, 0.4752, 0.4442, 0.4634, 0.4806, 0.4902, 0.4488, 0.4577,\n",
      "        0.4741, 0.4715, 0.4870, 0.4451, 0.4515, 0.4576, 0.4775, 0.5024, 0.4643,\n",
      "        0.5087, 0.4617, 0.4955, 0.4724, 0.5001, 0.4904, 0.4739, 0.4644, 0.4784,\n",
      "        0.5035, 0.4669, 0.4874, 0.4605, 0.4840], dtype=torch.float64)\n"
     ]
    },
    {
     "data": {
      "image/png": "[encoded data removed]",
      "text/plain": [
       "<Figure size 640x480 with 1 Axes>"
      ]
     },
     "metadata": {},
     "output_type": "display_data"
    }
   ],
   "source": [
    "for i,data in enumerate(train_loader_rand):\n",
    "    #print(i)\n",
    "    #print(data[\"input\"].squeeze(dim=2).shape) # dims are batch size x input channel x lat x lon (or something similar)\n",
    "    x = data[\"input\"].squeeze(dim=2)[:,3,0,0] # all the batches for the last input channel and the first spatial index\n",
    "    print(x) \n",
    "    plt.hist(x)"
   ]
  },
  {
   "cell_type": "markdown",
   "id": "f0d16bea-3a99-452f-99d0-dffb002ff1d1",
   "metadata": {},
   "source": [
    "### Note: the first output is the same in the above cases, and then it differs (not sure if that's meaningful?)"
   ]
  },
  {
   "cell_type": "code",
   "execution_count": 19,
   "id": "beaf46b3-396d-4302-819d-90bcfa48d210",
   "metadata": {},
   "outputs": [
    {
     "name": "stdout",
     "output_type": "stream",
     "text": [
      "tensor([0.4451, 0.4669, 0.4605, 0.4601, 0.5035, 0.4634, 0.4502, 0.4577, 0.4488,\n",
      "        0.4464, 0.4704, 0.5024, 0.5087, 0.4956, 0.4442, 0.4739, 0.4806, 0.5023,\n",
      "        0.4644, 0.4715, 0.4724, 0.4515, 0.4741, 0.4775, 0.4643, 0.5062, 0.4576,\n",
      "        0.4752, 0.4668, 0.4902, 0.4569, 0.4874], dtype=torch.float64)\n"
     ]
    },
    {
     "data": {
      "image/png": "[encoded data removed]",
      "text/plain": [
       "<Figure size 640x480 with 1 Axes>"
      ]
     },
     "metadata": {},
     "output_type": "display_data"
    }
   ],
   "source": [
    "# doesn't hold if you run a third time\n",
    "for i,data in enumerate(train_loader_rand):\n",
    "    #print(i)\n",
    "    #print(data[\"input\"].squeeze(dim=2).shape) # dims are batch size x input channel x lat x lon (or something similar)\n",
    "    x = data[\"input\"].squeeze(dim=2)[:,3,0,0] # all the batches for the last input channel and the first spatial index\n",
    "    print(x) \n",
    "    plt.hist(x)"
   ]
  },
  {
   "cell_type": "markdown",
   "id": "7eae8b53-24d1-4829-bff2-4ebe71104372",
   "metadata": {},
   "source": [
    "### Try with the modified batch size"
   ]
  },
  {
   "cell_type": "code",
   "execution_count": 22,
   "id": "9aa0fa19-80af-4d99-b7e3-25a9fd2f3960",
   "metadata": {},
   "outputs": [],
   "source": [
    "train_loader_rand_match = DataLoader(\n",
    "    train, batch_size=train_batch_size_v2, shuffle=True, \n",
    "    drop_last=True, worker_init_fn=seed_worker, generator=g\n",
    ")"
   ]
  },
  {
   "cell_type": "code",
   "execution_count": 23,
   "id": "d0cc8b28-f9fa-432b-ac7d-63fc45974eca",
   "metadata": {},
   "outputs": [
    {
     "name": "stdout",
     "output_type": "stream",
     "text": [
      "torch.Size([48, 4, 32, 32])\n",
      "tensor([0.5069, 0.4728, 0.4569, 0.4617, 0.5062, 0.4601, 0.4775, 0.4643, 0.4451,\n",
      "        0.4669, 0.4904, 0.4502, 0.4769, 0.4880, 0.4741, 0.4665, 0.4644, 0.4605,\n",
      "        0.4704, 0.4902, 0.4752, 0.4576, 0.4464, 0.4739, 0.4806, 0.5026, 0.4955,\n",
      "        0.4784, 0.4577, 0.4874, 0.5024, 0.4488, 0.4724, 0.4956, 0.4619, 0.4634,\n",
      "        0.4840, 0.5001, 0.4515, 0.4601, 0.4442, 0.4715, 0.4668, 0.5087, 0.5035,\n",
      "        0.5023, 0.5044, 0.4870], dtype=torch.float64)\n"
     ]
    },
    {
     "data": {
      "image/png": "[encoded data removed]",
      "text/plain": [
       "<Figure size 640x480 with 1 Axes>"
      ]
     },
     "metadata": {},
     "output_type": "display_data"
    }
   ],
   "source": [
    "for i,data in enumerate(train_loader_rand_match):\n",
    "    #print(i)\n",
    "    print(data[\"input\"].squeeze(dim=2).shape) # dims are batch size x input channel x lat x lon (or something similar)\n",
    "    x = data[\"input\"].squeeze(dim=2)[:,3,0,0] # all the batches for the last input channel and the first spatial index\n",
    "    print(x) \n",
    "    plt.hist(x)"
   ]
  },
  {
   "cell_type": "code",
   "execution_count": 24,
   "id": "a9c2ffe6-9605-4af5-bd50-a8b896172e73",
   "metadata": {},
   "outputs": [
    {
     "name": "stdout",
     "output_type": "stream",
     "text": [
      "torch.Size([48, 4, 32, 32])\n",
      "tensor([0.4605, 0.5062, 0.4840, 0.4902, 0.4669, 0.4956, 0.4724, 0.4728, 0.4955,\n",
      "        0.4569, 0.4704, 0.4668, 0.4752, 0.4488, 0.4451, 0.4769, 0.4715, 0.4870,\n",
      "        0.4464, 0.4644, 0.4577, 0.4619, 0.5023, 0.5069, 0.4601, 0.4601, 0.5044,\n",
      "        0.5001, 0.5035, 0.5026, 0.4515, 0.4741, 0.4634, 0.4442, 0.4502, 0.4576,\n",
      "        0.4617, 0.4739, 0.4665, 0.4880, 0.5087, 0.4904, 0.5024, 0.4775, 0.4784,\n",
      "        0.4643, 0.4806, 0.4874], dtype=torch.float64)\n"
     ]
    },
    {
     "data": {
      "image/png": "[encoded data removed]",
      "text/plain": [
       "<Figure size 640x480 with 1 Axes>"
      ]
     },
     "metadata": {},
     "output_type": "display_data"
    }
   ],
   "source": [
    "for i,data in enumerate(train_loader_rand_match):\n",
    "    #print(i)\n",
    "    print(data[\"input\"].squeeze(dim=2).shape) # dims are batch size x input channel x lat x lon (or something similar)\n",
    "    x = data[\"input\"].squeeze(dim=2)[:,3,0,0] # all the batches for the last input channel and the first spatial index\n",
    "    print(x) \n",
    "    plt.hist(x)"
   ]
  },
  {
   "cell_type": "markdown",
   "id": "c3b1b3d8-d770-4f2e-af0e-e0a686beb3ba",
   "metadata": {},
   "source": [
    "### Histogram is the same (as expected) but the order is still different, and the first index is no longer the same"
   ]
  },
  {
   "cell_type": "markdown",
   "id": "f910d5f9-6acd-496f-a373-9dff83876609",
   "metadata": {},
   "source": [
    "### Thoughts: changing the sampler parameter to DataLoader may help with this, but you can't use that when `shuffle=True`\n",
    "https://pytorch.org/docs/stable/data.html#data-loading-order-and-sampler"
   ]
  },
  {
   "cell_type": "code",
   "execution_count": null,
   "id": "8adcd9a0-c04d-4513-958b-d102bb60a46a",
   "metadata": {},
   "outputs": [],
   "source": []
  }
 ],
 "metadata": {
  "kernelspec": {
   "display_name": "Python 3 (ipykernel)",
   "language": "python",
   "name": "python3"
  },
  "language_info": {
   "codemirror_mode": {
    "name": "ipython",
    "version": 3
   },
   "file_extension": ".py",
   "mimetype": "text/x-python",
   "name": "python",
   "nbconvert_exporter": "python",
   "pygments_lexer": "ipython3",
   "version": "3.10.9"
  }
 },
 "nbformat": 4,
 "nbformat_minor": 5
}
